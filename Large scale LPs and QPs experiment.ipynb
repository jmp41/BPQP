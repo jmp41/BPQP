{
 "cells": [
  {
   "cell_type": "code",
   "execution_count": null,
   "metadata": {
    "collapsed": true,
    "pycharm": {
     "name": "#%%\n",
     "is_executing": true
    }
   },
   "outputs": [],
   "source": [
    "import cvxpy as cp\n",
    "import numpy as np\n",
    "import osqp\n",
    "from scipy import sparse\n",
    "import time"
   ]
  },
  {
   "cell_type": "code",
   "execution_count": null,
   "outputs": [],
   "source": [
    "def osqp_interface(P,q,A,l,u):\n",
    "    prob = osqp.OSQP()\n",
    "    prob.setup(P, q, A, l, u,verbose = False)\n",
    "    t0 = time.time()\n",
    "    res = prob.solve()\n",
    "    return res.x,res.y,time.time() - t0"
   ],
   "metadata": {
    "collapsed": false,
    "pycharm": {
     "name": "#%%\n"
    }
   }
  },
  {
   "cell_type": "code",
   "execution_count": null,
   "outputs": [],
   "source": [
    "ndim = 200\n",
    "neq = 5\n",
    "nineq = 5"
   ],
   "metadata": {
    "collapsed": false,
    "pycharm": {
     "name": "#%%\n"
    }
   }
  },
  {
   "cell_type": "code",
   "execution_count": null,
   "outputs": [],
   "source": [
    "P = np.random.random((ndim,ndim))\n",
    "P = P.T@P+(0.001*np.ones((ndim,ndim)))\n",
    "Pm = P.copy()\n",
    "P = sparse.csc_matrix(P)\n",
    "q = np.random.random(ndim)\n",
    "A = np.random.random((neq,ndim))\n",
    "G = np.random.random((nineq,ndim))\n",
    "b = np.random.random(neq)\n",
    "h = np.random.random(nineq)\n",
    "osA = np.vstack([G,A])\n",
    "osA = sparse.csc_matrix(osA)\n",
    "l = np.hstack([-np.inf*h,b])\n",
    "u = np.hstack([h,b])"
   ],
   "metadata": {
    "collapsed": false,
    "pycharm": {
     "name": "#%%\n"
    }
   }
  },
  {
   "cell_type": "markdown",
   "source": [
    "# 1.OSQP Forward"
   ],
   "metadata": {
    "collapsed": false,
    "pycharm": {
     "name": "#%% md\n"
    }
   }
  },
  {
   "cell_type": "code",
   "execution_count": null,
   "outputs": [],
   "source": [
    "x_value, y_value, time_spent = osqp_interface(P,q,osA,l,u)\n",
    "print('OSQP Forward Time spent:',time_spent)"
   ],
   "metadata": {
    "collapsed": false,
    "pycharm": {
     "name": "#%%\n"
    }
   }
  },
  {
   "cell_type": "markdown",
   "source": [
    "# 2.OSQP Backward"
   ],
   "metadata": {
    "collapsed": false,
    "pycharm": {
     "name": "#%% md\n"
    }
   }
  },
  {
   "cell_type": "code",
   "execution_count": null,
   "outputs": [],
   "source": [
    "lambs = y_value[:nineq] # active set\n",
    "active_set = np.argwhere(lambs>1e-8)\n",
    "bG = G[active_set,:].squeeze()\n",
    "bb = np.zeros(neq)\n",
    "bh = np.zeros(len(active_set))\n",
    "bq = np.ones(ndim)\n",
    "osnewA = np.vstack([bG,A])\n",
    "osnewA = sparse.csc_matrix(osnewA)\n",
    "l_new = np.hstack([bh,bb])\n",
    "u_new = np.hstack([bh,bb])\n",
    "\n",
    "x_grad, y_grad, time_spent_backward = osqp_interface(P,bq,osnewA,l_new,u_new)\n",
    "print('OSQP Backward Time spent:',time_spent_backward)"
   ],
   "metadata": {
    "collapsed": false,
    "pycharm": {
     "name": "#%%\n"
    }
   }
  },
  {
   "cell_type": "markdown",
   "source": [
    "# 3.CVXPY Backward"
   ],
   "metadata": {
    "collapsed": false,
    "pycharm": {
     "name": "#%% md\n"
    }
   }
  },
  {
   "cell_type": "code",
   "execution_count": null,
   "outputs": [],
   "source": [
    "qq = cp.Parameter(ndim)\n",
    "qq.value = q\n",
    "x1 = cp.Variable(ndim)\n",
    "prob = cp.Problem(cp.Minimize((1 / 2) * cp.quad_form(x1, P) + qq.T @ x1),\n",
    "                              [G @ x1 <= h,\n",
    "                               A @ x1 == b])\n",
    "t3 = time.time()\n",
    "prob.solve(requires_grad=True, solver='SCS')\n",
    "print('CVXPY Forward Time Spent:',time.time() - t3)\n",
    "t4 = time.time()\n",
    "prob.backward()\n",
    "print('CVXPY Backward Time Spent:',time.time() - t4)"
   ],
   "metadata": {
    "collapsed": false,
    "pycharm": {
     "name": "#%%\n"
    }
   }
  },
  {
   "cell_type": "markdown",
   "source": [
    "# 4. Exact backward (Matrices inverse)"
   ],
   "metadata": {
    "collapsed": false,
    "pycharm": {
     "name": "#%% md\n"
    }
   }
  },
  {
   "cell_type": "code",
   "execution_count": null,
   "outputs": [],
   "source": [
    "KKT_L1 = np.hstack([Pm,G.T,A.T])\n",
    "KKT_L2 = np.hstack([np.diag(lambs)@G, np.diag(G@x_value-h),np.zeros((nineq,neq))])\n",
    "KKT_L3 = np.hstack([A, np.zeros((neq,neq)),np.zeros((neq,nineq))])\n",
    "KKT = np.vstack([KKT_L1,KKT_L2,KKT_L3])\n",
    "t5 = time.time()\n",
    "exact_bb =-(np.linalg.inv(KKT)@np.hstack([np.ones(ndim),np.zeros(nineq),np.zeros(neq)]))[:ndim]\n",
    "print(\"Exact Backward Time Spent\", time.time()-t5)"
   ],
   "metadata": {
    "collapsed": false,
    "pycharm": {
     "name": "#%%\n"
    }
   }
  },
  {
   "cell_type": "markdown",
   "source": [
    "# 6. Accuracy Analysis"
   ],
   "metadata": {
    "collapsed": false,
    "pycharm": {
     "name": "#%% md\n"
    }
   }
  },
  {
   "cell_type": "code",
   "execution_count": null,
   "outputs": [],
   "source": [
    "def cal_sse_accuracy(x_exact,x_approx):\n",
    "    return np.sqrt(np.sum((x_exact - x_approx)**2))"
   ],
   "metadata": {
    "collapsed": false,
    "pycharm": {
     "name": "#%%\n"
    }
   }
  },
  {
   "cell_type": "code",
   "execution_count": null,
   "outputs": [],
   "source": [
    "print('OSQP forward dif',np.sqrt(np.sum((x_value - x1.value)**2)))\n",
    "print('OSQP backward dif',np.sqrt(np.sum((exact_bb - x_grad)**2)))\n",
    "print('CVXPY backward dif',np.sqrt(np.sum((exact_bb - qq.gradient)**2)))"
   ],
   "metadata": {
    "collapsed": false,
    "pycharm": {
     "name": "#%%\n"
    }
   }
  },
  {
   "cell_type": "markdown",
   "source": [
    "# 7. Large scale QPs"
   ],
   "metadata": {
    "collapsed": false,
    "pycharm": {
     "name": "#%% md\n"
    }
   }
  },
  {
   "cell_type": "code",
   "execution_count": null,
   "outputs": [],
   "source": [
    "n_list = [10,50,100,500]\n",
    "nconstraints_list = [5,10,20,50]"
   ],
   "metadata": {
    "collapsed": false,
    "pycharm": {
     "name": "#%%\n"
    }
   }
  },
  {
   "cell_type": "code",
   "execution_count": null,
   "outputs": [],
   "source": [
    "def QP_instances(ndim,neq,nineq):\n",
    "\n",
    "    P = np.random.random((ndim,ndim))\n",
    "    P = P.T@P+(0.001*np.ones((ndim,ndim)))\n",
    "    Pm = P.copy()\n",
    "    P = sparse.csc_matrix(P)\n",
    "    q = np.random.random(ndim)\n",
    "    A = np.random.random((neq,ndim))\n",
    "    G = np.random.random((nineq,ndim))\n",
    "    b = np.random.random(neq)\n",
    "    h = np.random.random(nineq)\n",
    "    osA = np.vstack([G,A])\n",
    "    osA = sparse.csc_matrix(osA)\n",
    "    l = np.hstack([-np.inf*h,b])\n",
    "    u = np.hstack([h,b])\n",
    "    return P,q,osA,l,u,Pm\n",
    "\n",
    "def OSQP_backward(y_value,G):\n",
    "    nineq,ndim = G.shape\n",
    "    neq = nineq\n",
    "    lambs = y_value[:nineq] # active set\n",
    "    active_set = np.argwhere(lambs>1e-8)\n",
    "    bG = G[active_set,:].squeeze()\n",
    "    bb = np.zeros(neq)\n",
    "    bh = np.zeros(len(active_set))\n",
    "    bq = np.ones(ndim)\n",
    "    osnewA = np.vstack([bG,A])\n",
    "    osnewA = sparse.csc_matrix(osnewA)\n",
    "    l_new = np.hstack([bh,bb])\n",
    "    u_new = np.hstack([bh,bb])\n",
    "    x_grad, y_grad, time_spent_backward = osqp_interface(P,bq,osnewA,l_new,u_new)\n",
    "    return x_grad, y_grad, time_spent_backward\n",
    "\n",
    "def cvxpy_backward(P,G,A,h,b,q):\n",
    "    ndim,nineq = G.shape\n",
    "    neq = nineq\n",
    "    qq = cp.Parameter(ndim)\n",
    "    qq.value = q\n",
    "    x1 = cp.Variable(ndim)\n",
    "    prob = cp.Problem(cp.Minimize((1 / 2) * cp.quad_form(x1, P) + qq.T @ x1),\n",
    "                                  [G @ x1 <= h,\n",
    "                                   A @ x1 == b])\n",
    "    t3 = time.time()\n",
    "    prob.solve(requires_grad=True, solver='SCS')\n",
    "    time_spent_forward = time.time() - t3\n",
    "    t4 = time.time()\n",
    "    prob.backward()\n",
    "    time_spent_backward = time.time() - t4\n",
    "    return x1.value,prob.value,time_spent_forward,time_spent_backward\n",
    "\n",
    "def cal_exact_backward(Pm,G,A,lambs,x_value):\n",
    "    lambs = y_value[:nineq] # active set\n",
    "    KKT_L1 = np.hstack([Pm,G.T,A.T])\n",
    "    KKT_L2 = np.hstack([np.diag(lambs)@G, np.diag(G@x_value-h),np.zeros((nineq,neq))])\n",
    "    KKT_L3 = np.hstack([A, np.zeros((neq,neq)),np.zeros((neq,nineq))])\n",
    "    KKT = np.vstack([KKT_L1,KKT_L2,KKT_L3])\n",
    "    t5 = time.time()\n",
    "    exact_bb =-(np.linalg.inv(KKT)@np.hstack([np.ones(ndim),np.zeros(nineq),np.zeros(neq)]))[:ndim]\n",
    "    return exact_bb,time.time()-t5\n",
    "\n",
    "for ndim,neq in zip(n_list,nconstraints_list):\n",
    "        P,q,osA,l,u,Pm = QP_instances(ndim,neq,neq) # neq = nineq\n",
    "        x_value, y_value, time_spent_forward_osqp = osqp_interface(P,q,osA,l,u) # OSQP Forward\n",
    "        x_grad, y_grad, time_spent_backward_osqp =\n",
    "\n",
    "\n"
   ],
   "metadata": {
    "collapsed": false,
    "pycharm": {
     "name": "#%%\n"
    }
   }
  },
  {
   "cell_type": "markdown",
   "source": [],
   "metadata": {
    "collapsed": false,
    "pycharm": {
     "name": "#%% md\n"
    }
   }
  }
 ],
 "metadata": {
  "kernelspec": {
   "display_name": "Python 3",
   "language": "python",
   "name": "python3"
  },
  "language_info": {
   "codemirror_mode": {
    "name": "ipython",
    "version": 2
   },
   "file_extension": ".py",
   "mimetype": "text/x-python",
   "name": "python",
   "nbconvert_exporter": "python",
   "pygments_lexer": "ipython2",
   "version": "2.7.6"
  }
 },
 "nbformat": 4,
 "nbformat_minor": 0
}