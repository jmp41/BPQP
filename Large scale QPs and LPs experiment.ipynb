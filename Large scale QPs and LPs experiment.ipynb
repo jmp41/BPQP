{
 "cells": [
  {
   "cell_type": "code",
   "execution_count": 1,
   "metadata": {
    "collapsed": true,
    "pycharm": {
     "name": "#%%\n"
    }
   },
   "outputs": [],
   "source": [
    "import cvxpy as cp\n",
    "import numpy as np\n",
    "import osqp\n",
    "from scipy import sparse\n",
    "from tqdm import tqdm\n",
    "import matplotlib.pyplot as plt\n",
    "import warnings\n",
    "import torch\n",
    "import pandas as pd\n",
    "from qpth.qp import QPFunction\n",
    "import time\n",
    "warnings.filterwarnings('ignore')"
   ]
  },
  {
   "cell_type": "code",
   "execution_count": 2,
   "outputs": [],
   "source": [
    "def osqp_interface(P,q,A,l,u):\n",
    "    prob = osqp.OSQP()\n",
    "    prob.setup(P, q, A, l, u,verbose = False)\n",
    "    t0 = time.time()\n",
    "    res = prob.solve()\n",
    "    return res.x,res.y,time.time() - t0"
   ],
   "metadata": {
    "collapsed": false,
    "pycharm": {
     "name": "#%%\n"
    }
   }
  },
  {
   "cell_type": "code",
   "execution_count": 57,
   "outputs": [],
   "source": [
    "ndim = 20\n",
    "neq = 10\n",
    "nineq = 10"
   ],
   "metadata": {
    "collapsed": false,
    "pycharm": {
     "name": "#%%\n"
    }
   }
  },
  {
   "cell_type": "code",
   "execution_count": 58,
   "outputs": [],
   "source": [
    "P = np.random.random((ndim,ndim))\n",
    "P = P.T@P+(0.0001*np.eye(ndim,ndim))\n",
    "Pm = P.copy()\n",
    "P = sparse.csc_matrix(P)\n",
    "q = np.random.random(ndim)\n",
    "A = np.random.random((neq,ndim))\n",
    "G = np.random.random((nineq,ndim))\n",
    "b = np.random.random(neq)\n",
    "h = G@np.random.random(ndim)\n",
    "osA = np.vstack([G,A])\n",
    "osA = sparse.csc_matrix(osA)\n",
    "l = np.hstack([-np.inf*np.ones(nineq),b])\n",
    "u = np.hstack([h,b])"
   ],
   "metadata": {
    "collapsed": false,
    "pycharm": {
     "name": "#%%\n"
    }
   }
  },
  {
   "cell_type": "markdown",
   "source": [
    "# 1.OSQP Forward"
   ],
   "metadata": {
    "collapsed": false,
    "pycharm": {
     "name": "#%% md\n"
    }
   }
  },
  {
   "cell_type": "code",
   "execution_count": 59,
   "outputs": [
    {
     "name": "stdout",
     "output_type": "stream",
     "text": [
      "OSQP Forward Time spent: 0.00022721290588378906\n"
     ]
    }
   ],
   "source": [
    "x_value, y_value, time_spent = osqp_interface(P,q,osA,l,u)\n",
    "print('OSQP Forward Time spent:',time_spent)"
   ],
   "metadata": {
    "collapsed": false,
    "pycharm": {
     "name": "#%%\n"
    }
   }
  },
  {
   "cell_type": "markdown",
   "source": [
    "# 2.OSQP Backward"
   ],
   "metadata": {
    "collapsed": false,
    "pycharm": {
     "name": "#%% md\n"
    }
   }
  },
  {
   "cell_type": "code",
   "execution_count": 60,
   "outputs": [
    {
     "name": "stdout",
     "output_type": "stream",
     "text": [
      "OSQP Backward Time spent: 0.00010752677917480469\n"
     ]
    }
   ],
   "source": [
    "lambs = y_value[:nineq] # active set\n",
    "active_set = np.argwhere(lambs>1e-8)\n",
    "bG = G[active_set,:].squeeze()\n",
    "bb = np.zeros(neq)\n",
    "bh = np.zeros(len(active_set))\n",
    "bq = np.ones(ndim)\n",
    "osnewA = np.vstack([bG,A])\n",
    "osnewA = sparse.csc_matrix(osnewA)\n",
    "l_new = np.hstack([bh,bb])\n",
    "u_new = np.hstack([bh,bb])\n",
    "\n",
    "x_grad, y_grad, time_spent_backward = osqp_interface(P,bq,osnewA,l_new,u_new)\n",
    "print('OSQP Backward Time spent:',time_spent_backward)"
   ],
   "metadata": {
    "collapsed": false,
    "pycharm": {
     "name": "#%%\n"
    }
   }
  },
  {
   "cell_type": "markdown",
   "source": [
    "# 3.CVXPY Backward"
   ],
   "metadata": {
    "collapsed": false,
    "pycharm": {
     "name": "#%% md\n"
    }
   }
  },
  {
   "cell_type": "code",
   "execution_count": 61,
   "outputs": [
    {
     "name": "stdout",
     "output_type": "stream",
     "text": [
      "CVXPY Forward Time Spent: 0.04103517532348633\n",
      "CVXPY Backward Time Spent: 0.005269527435302734\n"
     ]
    }
   ],
   "source": [
    "qq = cp.Parameter(ndim)\n",
    "qq.value = q\n",
    "x1 = cp.Variable(ndim)\n",
    "prob = cp.Problem(cp.Minimize((1 / 2) * cp.quad_form(x1, P) + qq.T @ x1),\n",
    "                              [G @ x1 <= h,\n",
    "                               A @ x1 == b])\n",
    "t3 = time.time()\n",
    "prob.solve(requires_grad = True,solver='SCS')\n",
    "print('CVXPY Forward Time Spent:',time.time() - t3)\n",
    "t4 = time.time()\n",
    "prob.backward()\n",
    "print('CVXPY Backward Time Spent:',time.time() - t4)"
   ],
   "metadata": {
    "collapsed": false,
    "pycharm": {
     "name": "#%%\n"
    }
   }
  },
  {
   "cell_type": "code",
   "execution_count": 62,
   "outputs": [
    {
     "name": "stdout",
     "output_type": "stream",
     "text": [
      "qpth Forward Time Spent: 0.08447957038879395\n",
      "qpth Backward Time Spent: 0.005026578903198242\n"
     ]
    }
   ],
   "source": [
    "qpf = QPFunction(verbose=0,maxIter=500)\n",
    "tP, tq, tG, th, tA, tb = [torch.Tensor(x).unsqueeze(0).cuda() for x in [Pm, q, G, h, A, b]]\n",
    "tq.requires_grad = True\n",
    "t6 = time.time()\n",
    "qpth_x_value = qpf(tP, tq, tG, th, tA, tb)\n",
    "print('qpth Forward Time Spent:', time.time() - t6)\n",
    "t7 = time.time()\n",
    "qpth_x_value.backward(torch.ones(1, ndim).cuda())\n",
    "print('qpth Backward Time Spent:', time.time() - t7)\n",
    "qpth_x_grad = tq.grad.squeeze().cpu().numpy()\n",
    "qpth_x_value = qpth_x_value.squeeze().detach().cpu().numpy()"
   ],
   "metadata": {
    "collapsed": false,
    "pycharm": {
     "name": "#%%\n"
    }
   }
  },
  {
   "cell_type": "markdown",
   "source": [
    "# 4. Exact backward (Matrix inverse)"
   ],
   "metadata": {
    "collapsed": false,
    "pycharm": {
     "name": "#%% md\n"
    }
   }
  },
  {
   "cell_type": "code",
   "execution_count": 63,
   "outputs": [
    {
     "name": "stdout",
     "output_type": "stream",
     "text": [
      "Exact Backward Time Spent 0.0010809898376464844\n"
     ]
    }
   ],
   "source": [
    "KKT_L1 = np.hstack([Pm,G.T,A.T])\n",
    "KKT_L2 = np.hstack([np.diag(lambs)@G, np.diag(G@x_value-h),np.zeros((nineq,neq))])\n",
    "KKT_L3 = np.hstack([A, np.zeros((neq,neq)),np.zeros((neq,nineq))])\n",
    "KKT = np.vstack([KKT_L1,KKT_L2,KKT_L3])\n",
    "t5 = time.time()\n",
    "exact_bb =-(np.linalg.inv(KKT)@np.hstack([np.ones(ndim),np.zeros(nineq),np.zeros(neq)]))[:ndim]\n",
    "print(\"Exact Backward Time Spent\", time.time()-t5)"
   ],
   "metadata": {
    "collapsed": false,
    "pycharm": {
     "name": "#%%\n"
    }
   }
  },
  {
   "cell_type": "markdown",
   "source": [
    "# 6. Accuracy Analysis"
   ],
   "metadata": {
    "collapsed": false,
    "pycharm": {
     "name": "#%% md\n"
    }
   }
  },
  {
   "cell_type": "code",
   "execution_count": 64,
   "outputs": [],
   "source": [
    "def cal_L2_accuracy(x_exact,x_approx):\n",
    "    return np.sqrt(np.sum((x_exact - x_approx)**2))"
   ],
   "metadata": {
    "collapsed": false,
    "pycharm": {
     "name": "#%%\n"
    }
   }
  },
  {
   "cell_type": "code",
   "execution_count": 65,
   "outputs": [
    {
     "name": "stdout",
     "output_type": "stream",
     "text": [
      "Forward pass\n",
      "      CVXPY      qpth      BPQP\n",
      "0 -0.087855 -0.087852 -0.087855\n",
      "1  0.237989  0.237993  0.237989\n",
      "2  0.197733  0.197736  0.197733\n",
      "3 -0.278179 -0.278179 -0.278179\n",
      "4 -0.053217 -0.053233 -0.053217\n",
      "Backward pass\n",
      "      CVXPY      qpth      BPQP     exact\n",
      "0 -0.120536 -0.120573 -0.120540 -0.120539\n",
      "1 -0.046952 -0.046952 -0.046951 -0.046951\n",
      "2 -0.071246 -0.071218 -0.071227 -0.071227\n",
      "3 -0.015605 -0.015658 -0.015612 -0.015612\n",
      "4  0.114594  0.114665  0.114586  0.114586\n"
     ]
    }
   ],
   "source": [
    "print('Forward pass')\n",
    "print(pd.DataFrame({'CVXPY':x1.value, 'qpth': qpth_x_value, 'BPQP': x_value}).head(5))\n",
    "print('Backward pass')\n",
    "print(pd.DataFrame({'CVXPY':qq.gradient, 'qpth': qpth_x_grad, 'BPQP': x_grad, 'exact': exact_bb}).head(5))"
   ],
   "metadata": {
    "collapsed": false,
    "pycharm": {
     "name": "#%%\n"
    }
   }
  },
  {
   "cell_type": "code",
   "execution_count": 66,
   "outputs": [
    {
     "name": "stdout",
     "output_type": "stream",
     "text": [
      "OSQP vs CVXPY forward dif 4.72351170640662e-07\n",
      "OSQP vs qpth forward dif 5.050744830431107e-05\n",
      "OSQP vs Exact backward dif 9.928261768325145e-07\n",
      "CVXPY vs Exact backward dif 5.637992733069404e-05\n",
      "qpth vs Exact backward dif 0.0003041202564301781\n",
      "qpth vs CVXPY backward dif 0.00031885341118828315\n"
     ]
    }
   ],
   "source": [
    "print('OSQP vs CVXPY forward dif',cal_L2_accuracy(x_value , x1.value))\n",
    "print('OSQP vs qpth forward dif',cal_L2_accuracy(x_value , qpth_x_value))\n",
    "print('OSQP vs Exact backward dif',np.sqrt(np.sum((exact_bb - x_grad)**2)))\n",
    "print('CVXPY vs Exact backward dif',np.sqrt(np.sum((exact_bb - qq.gradient)**2)))\n",
    "print('qpth vs Exact backward dif',np.sqrt(np.sum((exact_bb-qpth_x_grad)**2)))\n",
    "print('qpth vs CVXPY backward dif',np.sqrt(np.sum((qq.gradient-qpth_x_grad)**2)))"
   ],
   "metadata": {
    "collapsed": false,
    "pycharm": {
     "name": "#%%\n"
    }
   }
  },
  {
   "cell_type": "markdown",
   "source": [
    "# 7. Comparison with state-of-art differentiable QP optimizer"
   ],
   "metadata": {
    "collapsed": false,
    "pycharm": {
     "name": "#%% md\n"
    }
   }
  },
  {
   "cell_type": "code",
   "execution_count": 13,
   "outputs": [],
   "source": [
    "n_list = [10,100,500]\n",
    "nconstraints_list = [5,50,250]"
   ],
   "metadata": {
    "collapsed": false,
    "pycharm": {
     "name": "#%%\n"
    }
   }
  },
  {
   "cell_type": "code",
   "execution_count": 14,
   "outputs": [],
   "source": [
    "def QP_instances(ndim,neq,nineq):\n",
    "\n",
    "    P = np.random.random((ndim,ndim))\n",
    "    P = P.T@P+(0.001*np.eye(ndim,ndim))\n",
    "    Pm = P.copy()\n",
    "    P = sparse.csc_matrix(P)\n",
    "    q = np.random.random(ndim)\n",
    "    A = np.random.random((neq,ndim))\n",
    "    G = np.random.random((nineq,ndim))\n",
    "    b = np.random.random(neq)\n",
    "    h = G@np.random.random(ndim)\n",
    "    osA = np.vstack([G,A])\n",
    "    osA = sparse.csc_matrix(osA)\n",
    "    l = np.hstack([-np.inf*h,b])\n",
    "    u = np.hstack([h,b])\n",
    "    return P,q,G,b,A,h,osA,l,u,Pm\n",
    "\n",
    "def QP_OSQP_backward(y_value,P,G,A):\n",
    "    nineq,ndim = G.shape\n",
    "    neq = A.shape[0]\n",
    "    lambs = y_value[:nineq] # active set\n",
    "    active_set = np.argwhere(lambs>1e-8)\n",
    "    bG = G[active_set,:].squeeze()\n",
    "    bb = np.zeros(neq)\n",
    "    bh = np.zeros(len(active_set))\n",
    "    bq = np.ones(ndim)\n",
    "    osnewA = np.vstack([bG,A])\n",
    "    osnewA = sparse.csc_matrix(osnewA)\n",
    "    l_new = np.hstack([bh,bb])\n",
    "    u_new = np.hstack([bh,bb])\n",
    "    x_grad, y_grad, time_spent_backward = osqp_interface(P,bq,osnewA,l_new,u_new)\n",
    "    return x_grad, y_grad, time_spent_backward\n",
    "\n",
    "def QP_cvxpy_backward(P,G,A,h,b,q):\n",
    "    nineq,ndim = G.shape\n",
    "    neq = nineq\n",
    "    qq = cp.Parameter(ndim)\n",
    "    qq.value = q\n",
    "    x1 = cp.Variable(ndim)\n",
    "    prob = cp.Problem(cp.Minimize((1 / 2) * cp.quad_form(x1, P) + qq.T @ x1),\n",
    "                                  [G @ x1 <= h,\n",
    "                                   A @ x1 == b])\n",
    "    t3 = time.time()\n",
    "    try:\n",
    "        prob.solve(requires_grad=True, solver='SCS')\n",
    "        time_spent_forward = time.time() - t3\n",
    "        t4 = time.time()\n",
    "        prob.backward()\n",
    "        time_spent_backward = time.time() - t4\n",
    "        return x1.value,prob.value, qq.gradient,time_spent_forward,time_spent_backward\n",
    "    except:\n",
    "        return np.nan*np.zeros(ndim),np.nan,np.nan*np.zeros(ndim),np.nan,np.nan\n",
    "\n",
    "def QP_qpth_evaluate(Pm,G,A,h,b,q):\n",
    "    nineq,ndim = G.shape\n",
    "    neq = nineq\n",
    "    qpf = QPFunction(verbose=0,maxIter=500)\n",
    "    tP, tq, tG, th, tA, tb = [torch.Tensor(x).unsqueeze(0).cuda() for x in [Pm, q, G, h, A, b]]\n",
    "    tq.requires_grad = True\n",
    "    try:\n",
    "        t6 = time.time()\n",
    "        qpth_x_value = qpf(tP, tq, tG, th, tA, tb)\n",
    "        t7 = time.time()\n",
    "        qpth_x_value.backward(torch.ones(1, ndim).cuda())\n",
    "        qpth_x_grad = tq.grad.squeeze().cpu().numpy()\n",
    "        qpth_x_value = qpth_x_value.squeeze().detach().cpu().numpy()\n",
    "        return qpth_x_value,qpth_x_grad,time.time() - t6,time.time() - t7\n",
    "    except:\n",
    "        return np.nan*np.zeros(ndim),np.nan*np.zeros(ndim),np.nan,np.nan\n",
    "\n",
    "def QP_cal_exact_backward(Pm,G,A,y_value,x_value,h):\n",
    "    nineq,ndim = G.shape\n",
    "    neq = A.shape[0]\n",
    "    lambs = y_value[:nineq] # active set\n",
    "    KKT_L1 = np.hstack([Pm,G.T,A.T])\n",
    "    KKT_L2 = np.hstack([np.diag(lambs)@G, np.diag(G@x_value-h),np.zeros((nineq,neq))])\n",
    "    KKT_L3 = np.hstack([A, np.zeros((neq,neq)),np.zeros((neq,nineq))])\n",
    "    KKT = np.vstack([KKT_L1,KKT_L2,KKT_L3])\n",
    "    t5 = time.time()\n",
    "    exact_bb =-(np.linalg.inv(KKT)@np.hstack([np.ones(ndim),np.zeros(nineq),np.zeros(neq)]))[:ndim]\n",
    "    return exact_bb,time.time()-t5\n",
    "\n",
    "def dict_report(stats, key, value):\n",
    "    if key in stats.keys():\n",
    "        stats[key] = np.append(stats[key], value)\n",
    "    else:\n",
    "        stats[key] = value"
   ],
   "metadata": {
    "collapsed": false,
    "pycharm": {
     "name": "#%%\n"
    }
   }
  },
  {
   "cell_type": "code",
   "execution_count": 15,
   "outputs": [
    {
     "name": "stderr",
     "output_type": "stream",
     "text": [
      " 25%|█████████████████████████████████████▌                                                                                                                | 5/20 [00:35<01:48,  7.21s/it]"
     ]
    },
    {
     "name": "stdout",
     "output_type": "stream",
     "text": [
      "WARNING - large complementary slackness residual: 91740769109273172240642458838222107631455318870089646751672285790208.000000\n"
     ]
    },
    {
     "name": "stderr",
     "output_type": "stream",
     "text": [
      " 45%|███████████████████████████████████████████████████████████████████▌                                                                                  | 9/20 [01:03<01:18,  7.09s/it]"
     ]
    },
    {
     "name": "stdout",
     "output_type": "stream",
     "text": [
      "WARNING - large complementary slackness residual: 6931798828365205111015889960202655132606844485310273310504911677577251025178119372800.000000\n"
     ]
    },
    {
     "name": "stderr",
     "output_type": "stream",
     "text": [
      " 65%|████████████████████████████████████████████████████████████████████████████████████████████████▊                                                    | 13/20 [01:32<00:50,  7.14s/it]"
     ]
    },
    {
     "name": "stdout",
     "output_type": "stream",
     "text": [
      "WARNING - large complementary slackness residual: 25740899263144351484090013922006374303317402046995972974291380636967276647103878282608640.000000\n"
     ]
    },
    {
     "name": "stderr",
     "output_type": "stream",
     "text": [
      "100%|█████████████████████████████████████████████████████████████████████████████████████████████████████████████████████████████████████████████████████| 20/20 [02:21<00:00,  7.06s/it]\n"
     ]
    }
   ],
   "source": [
    "stats = {}\n",
    "iters = 200\n",
    "for i in tqdm(range(iters)):\n",
    "    for ndim,neq in zip(n_list,nconstraints_list):\n",
    "        P,q,G,b,A,h,osA,l,u,Pm = QP_instances(ndim,neq,neq) # neq = nineq\n",
    "        x_value, y_value, time_spent_forward_osqp = osqp_interface(P,q,osA,l,u) # OSQP Forward\n",
    "        x_grad, y_grad, time_spent_backward_osqp = QP_OSQP_backward(y_value,P,G,A) # OSQP Backward\n",
    "        x_cp_value,y_cp_value, x_cp_grad,time_spent_forward,time_spent_backward = QP_cvxpy_backward(P,G,A,h,b,q) # cvxpy Forward and Backward\n",
    "        x_qpth_value, x_qpth_grad,time_spent_qpth_forward, time_qpth_backward= QP_qpth_evaluate(Pm,G,A,h,b,q)\n",
    "\n",
    "        exact_bb,t_spent = QP_cal_exact_backward(Pm,G,A,y_value,x_value,h) # Exact backward\n",
    "        acc_forward = cal_L2_accuracy(x_value,x_qpth_value)\n",
    "        acc_osqp_bb = cal_L2_accuracy(exact_bb,x_grad)\n",
    "        acc_cvxpy_bb = cal_L2_accuracy(exact_bb,x_cp_grad)\n",
    "        acc_qpth_bb = cal_L2_accuracy(exact_bb,x_qpth_grad)\n",
    "\n",
    "        dict_report(stats, 'Time OSQP Forward'+f' ndim:{ndim}'+f' neq=nineq={neq}', time_spent_forward_osqp)\n",
    "        dict_report(stats, 'Time OSQP Backward'+f' ndim:{ndim}'+f' neq=nineq={neq}', time_spent_backward_osqp)\n",
    "        dict_report(stats, 'Time CVXPY Forward'+f' ndim:{ndim}'+f' neq=nineq={neq}', time_spent_forward)\n",
    "        dict_report(stats, 'Time CVXPY Backward'+f' ndim:{ndim}'+f' neq=nineq={neq}', time_spent_backward)\n",
    "        dict_report(stats, 'Time Exact Backward'+f' ndim:{ndim}'+f' neq=nineq={neq}', t_spent)\n",
    "        dict_report(stats, 'Time Qpth Backward'+f' ndim:{ndim}'+f' neq=nineq={neq}', time_qpth_backward)\n",
    "        dict_report(stats, 'Time Qpth Forward'+f' ndim:{ndim}'+f' neq=nineq={neq}', time_spent_qpth_forward)\n",
    "        dict_report(stats, 'Accuracy Forward'+f' ndim:{ndim}'+f' neq=nineq={neq}', acc_forward)\n",
    "        dict_report(stats, 'Accuracy OSQP Backward'+f' ndim:{ndim}'+f' neq=nineq={neq}', acc_osqp_bb)\n",
    "        dict_report(stats, 'Accuracy CVXPY Backward'+f' ndim:{ndim}'+f' neq=nineq={neq}', acc_cvxpy_bb)\n",
    "        dict_report(stats, 'Accuracy QPTH Backward'+f' ndim:{ndim}'+f' neq=nineq={neq}', acc_qpth_bb)\n"
   ],
   "metadata": {
    "collapsed": false,
    "pycharm": {
     "name": "#%%\n"
    }
   }
  },
  {
   "cell_type": "code",
   "execution_count": 16,
   "outputs": [],
   "source": [
    "def get_results_table(results_dict):\n",
    "    d = {}\n",
    "    missing_methods = []\n",
    "    for method in results_dict.keys():\n",
    "        if method in results_dict:\n",
    "            d[method] = ['{:.1e}({:.1e})'.format(np.nanmean(results_dict[method]),np.nanstd(results_dict[method]))]\n",
    "        else:\n",
    "            missing_methods.append(method)\n",
    "    df = pd.DataFrame.from_dict(d, orient='index')\n",
    "    df.index.names = ['avg']\n",
    "    return df"
   ],
   "metadata": {
    "collapsed": false,
    "pycharm": {
     "name": "#%%\n"
    }
   }
  },
  {
   "cell_type": "code",
   "execution_count": 17,
   "outputs": [
    {
     "data": {
      "text/plain": "                                                               0\navg                                                             \nTime OSQP Forward ndim:10 neq=nineq=5           8.7e-05(2.7e-05)\nTime OSQP Backward ndim:10 neq=nineq=5          4.4e-05(7.5e-06)\nTime CVXPY Forward ndim:10 neq=nineq=5          4.8e-02(1.6e-02)\nTime CVXPY Backward ndim:10 neq=nineq=5         3.8e-03(6.9e-04)\nTime Exact Backward ndim:10 neq=nineq=5         2.9e-03(3.8e-03)\nTime Qpth Backward ndim:10 neq=nineq=5          5.2e-03(1.3e-03)\nTime Qpth Forward ndim:10 neq=nineq=5           1.1e-01(2.1e-02)\nAccuracy Forward ndim:10 neq=nineq=5            2.0e-04(2.1e-04)\nAccuracy OSQP Backward ndim:10 neq=nineq=5      9.6e-05(3.2e-04)\nAccuracy CVXPY Backward ndim:10 neq=nineq=5     9.4e-05(3.2e-04)\nAccuracy QPTH Backward ndim:10 neq=nineq=5      1.3e-04(3.3e-04)\nTime OSQP Forward ndim:100 neq=nineq=50         4.4e-03(2.1e-03)\nTime OSQP Backward ndim:100 neq=nineq=50        1.1e-03(2.2e-04)\nTime CVXPY Forward ndim:100 neq=nineq=50                nan(nan)\nTime CVXPY Backward ndim:100 neq=nineq=50               nan(nan)\nTime Exact Backward ndim:100 neq=nineq=50       5.7e-01(6.2e-02)\nTime Qpth Backward ndim:100 neq=nineq=50        5.0e-03(1.3e-03)\nTime Qpth Forward ndim:100 neq=nineq=50         1.2e-01(1.8e-02)\nAccuracy Forward ndim:100 neq=nineq=50          3.5e-03(3.3e-03)\nAccuracy OSQP Backward ndim:100 neq=nineq=50    3.5e-07(7.0e-08)\nAccuracy CVXPY Backward ndim:100 neq=nineq=50           nan(nan)\nAccuracy QPTH Backward ndim:100 neq=nineq=50    1.5e-04(9.2e-05)\nTime OSQP Forward ndim:500 neq=nineq=250        3.6e-01(7.0e-02)\nTime OSQP Backward ndim:500 neq=nineq=250       1.6e-02(1.9e-03)\nTime CVXPY Forward ndim:500 neq=nineq=250               nan(nan)\nTime CVXPY Backward ndim:500 neq=nineq=250              nan(nan)\nTime Exact Backward ndim:500 neq=nineq=250      4.4e+00(1.8e-01)\nTime Qpth Backward ndim:500 neq=nineq=250               nan(nan)\nTime Qpth Forward ndim:500 neq=nineq=250                nan(nan)\nAccuracy Forward ndim:500 neq=nineq=250                 nan(nan)\nAccuracy OSQP Backward ndim:500 neq=nineq=250   7.0e-08(6.4e-09)\nAccuracy CVXPY Backward ndim:500 neq=nineq=250          nan(nan)\nAccuracy QPTH Backward ndim:500 neq=nineq=250           nan(nan)",
      "text/html": "<div>\n<style scoped>\n    .dataframe tbody tr th:only-of-type {\n        vertical-align: middle;\n    }\n\n    .dataframe tbody tr th {\n        vertical-align: top;\n    }\n\n    .dataframe thead th {\n        text-align: right;\n    }\n</style>\n<table border=\"1\" class=\"dataframe\">\n  <thead>\n    <tr style=\"text-align: right;\">\n      <th></th>\n      <th>0</th>\n    </tr>\n    <tr>\n      <th>avg</th>\n      <th></th>\n    </tr>\n  </thead>\n  <tbody>\n    <tr>\n      <th>Time OSQP Forward ndim:10 neq=nineq=5</th>\n      <td>8.7e-05(2.7e-05)</td>\n    </tr>\n    <tr>\n      <th>Time OSQP Backward ndim:10 neq=nineq=5</th>\n      <td>4.4e-05(7.5e-06)</td>\n    </tr>\n    <tr>\n      <th>Time CVXPY Forward ndim:10 neq=nineq=5</th>\n      <td>4.8e-02(1.6e-02)</td>\n    </tr>\n    <tr>\n      <th>Time CVXPY Backward ndim:10 neq=nineq=5</th>\n      <td>3.8e-03(6.9e-04)</td>\n    </tr>\n    <tr>\n      <th>Time Exact Backward ndim:10 neq=nineq=5</th>\n      <td>2.9e-03(3.8e-03)</td>\n    </tr>\n    <tr>\n      <th>Time Qpth Backward ndim:10 neq=nineq=5</th>\n      <td>5.2e-03(1.3e-03)</td>\n    </tr>\n    <tr>\n      <th>Time Qpth Forward ndim:10 neq=nineq=5</th>\n      <td>1.1e-01(2.1e-02)</td>\n    </tr>\n    <tr>\n      <th>Accuracy Forward ndim:10 neq=nineq=5</th>\n      <td>2.0e-04(2.1e-04)</td>\n    </tr>\n    <tr>\n      <th>Accuracy OSQP Backward ndim:10 neq=nineq=5</th>\n      <td>9.6e-05(3.2e-04)</td>\n    </tr>\n    <tr>\n      <th>Accuracy CVXPY Backward ndim:10 neq=nineq=5</th>\n      <td>9.4e-05(3.2e-04)</td>\n    </tr>\n    <tr>\n      <th>Accuracy QPTH Backward ndim:10 neq=nineq=5</th>\n      <td>1.3e-04(3.3e-04)</td>\n    </tr>\n    <tr>\n      <th>Time OSQP Forward ndim:100 neq=nineq=50</th>\n      <td>4.4e-03(2.1e-03)</td>\n    </tr>\n    <tr>\n      <th>Time OSQP Backward ndim:100 neq=nineq=50</th>\n      <td>1.1e-03(2.2e-04)</td>\n    </tr>\n    <tr>\n      <th>Time CVXPY Forward ndim:100 neq=nineq=50</th>\n      <td>nan(nan)</td>\n    </tr>\n    <tr>\n      <th>Time CVXPY Backward ndim:100 neq=nineq=50</th>\n      <td>nan(nan)</td>\n    </tr>\n    <tr>\n      <th>Time Exact Backward ndim:100 neq=nineq=50</th>\n      <td>5.7e-01(6.2e-02)</td>\n    </tr>\n    <tr>\n      <th>Time Qpth Backward ndim:100 neq=nineq=50</th>\n      <td>5.0e-03(1.3e-03)</td>\n    </tr>\n    <tr>\n      <th>Time Qpth Forward ndim:100 neq=nineq=50</th>\n      <td>1.2e-01(1.8e-02)</td>\n    </tr>\n    <tr>\n      <th>Accuracy Forward ndim:100 neq=nineq=50</th>\n      <td>3.5e-03(3.3e-03)</td>\n    </tr>\n    <tr>\n      <th>Accuracy OSQP Backward ndim:100 neq=nineq=50</th>\n      <td>3.5e-07(7.0e-08)</td>\n    </tr>\n    <tr>\n      <th>Accuracy CVXPY Backward ndim:100 neq=nineq=50</th>\n      <td>nan(nan)</td>\n    </tr>\n    <tr>\n      <th>Accuracy QPTH Backward ndim:100 neq=nineq=50</th>\n      <td>1.5e-04(9.2e-05)</td>\n    </tr>\n    <tr>\n      <th>Time OSQP Forward ndim:500 neq=nineq=250</th>\n      <td>3.6e-01(7.0e-02)</td>\n    </tr>\n    <tr>\n      <th>Time OSQP Backward ndim:500 neq=nineq=250</th>\n      <td>1.6e-02(1.9e-03)</td>\n    </tr>\n    <tr>\n      <th>Time CVXPY Forward ndim:500 neq=nineq=250</th>\n      <td>nan(nan)</td>\n    </tr>\n    <tr>\n      <th>Time CVXPY Backward ndim:500 neq=nineq=250</th>\n      <td>nan(nan)</td>\n    </tr>\n    <tr>\n      <th>Time Exact Backward ndim:500 neq=nineq=250</th>\n      <td>4.4e+00(1.8e-01)</td>\n    </tr>\n    <tr>\n      <th>Time Qpth Backward ndim:500 neq=nineq=250</th>\n      <td>nan(nan)</td>\n    </tr>\n    <tr>\n      <th>Time Qpth Forward ndim:500 neq=nineq=250</th>\n      <td>nan(nan)</td>\n    </tr>\n    <tr>\n      <th>Accuracy Forward ndim:500 neq=nineq=250</th>\n      <td>nan(nan)</td>\n    </tr>\n    <tr>\n      <th>Accuracy OSQP Backward ndim:500 neq=nineq=250</th>\n      <td>7.0e-08(6.4e-09)</td>\n    </tr>\n    <tr>\n      <th>Accuracy CVXPY Backward ndim:500 neq=nineq=250</th>\n      <td>nan(nan)</td>\n    </tr>\n    <tr>\n      <th>Accuracy QPTH Backward ndim:500 neq=nineq=250</th>\n      <td>nan(nan)</td>\n    </tr>\n  </tbody>\n</table>\n</div>"
     },
     "execution_count": 17,
     "metadata": {},
     "output_type": "execute_result"
    }
   ],
   "source": [
    "df = get_results_table(stats)\n",
    "df"
   ],
   "metadata": {
    "collapsed": false,
    "pycharm": {
     "name": "#%%\n"
    }
   }
  },
  {
   "cell_type": "code",
   "execution_count": 10,
   "outputs": [],
   "source": [
    "df.to_csv('./BPQP_QP_results.csv')"
   ],
   "metadata": {
    "collapsed": false,
    "pycharm": {
     "name": "#%%\n"
    }
   }
  },
  {
   "cell_type": "code",
   "execution_count": 11,
   "outputs": [],
   "source": [
    "pd.DataFrame(stats).to_csv('./BPQP_QP_raw_results.csv')"
   ],
   "metadata": {
    "collapsed": false,
    "pycharm": {
     "name": "#%%\n"
    }
   }
  },
  {
   "cell_type": "markdown",
   "source": [
    "# 8. Large scale QPs"
   ],
   "metadata": {
    "collapsed": false,
    "pycharm": {
     "name": "#%% md\n"
    }
   }
  },
  {
   "cell_type": "code",
   "execution_count": 19,
   "outputs": [
    {
     "name": "stdout",
     "output_type": "stream",
     "text": [
      "ndim:1000, neq=nineq:500\n",
      "\n",
      "--------\n",
      "qpth warning: Returning an inaccurate and potentially incorrect solution.\n",
      "\n",
      "Some residual is large.\n",
      "Your problem may be infeasible or difficult.\n",
      "\n",
      "You can try using the CVXPY solver to see if your problem is feasible\n",
      "and you can use the verbose option to check the convergence status of\n",
      "our solver while increasing the number of iterations.\n",
      "\n",
      "Advanced users:\n",
      "You can also try to enable iterative refinement in the solver:\n",
      "https://github.com/locuslab/qpth/issues/6\n",
      "--------\n",
      "\n",
      "ndim:2000, neq=nineq:1000\n",
      "\n",
      "--------\n",
      "qpth warning: Returning an inaccurate and potentially incorrect solution.\n",
      "\n",
      "Some residual is large.\n",
      "Your problem may be infeasible or difficult.\n",
      "\n",
      "You can try using the CVXPY solver to see if your problem is feasible\n",
      "and you can use the verbose option to check the convergence status of\n",
      "our solver while increasing the number of iterations.\n",
      "\n",
      "Advanced users:\n",
      "You can also try to enable iterative refinement in the solver:\n",
      "https://github.com/locuslab/qpth/issues/6\n",
      "--------\n",
      "\n",
      "ndim:3000, neq=nineq:2000\n",
      "\n",
      "--------\n",
      "qpth warning: Returning an inaccurate and potentially incorrect solution.\n",
      "\n",
      "Some residual is large.\n",
      "Your problem may be infeasible or difficult.\n",
      "\n",
      "You can try using the CVXPY solver to see if your problem is feasible\n",
      "and you can use the verbose option to check the convergence status of\n",
      "our solver while increasing the number of iterations.\n",
      "\n",
      "Advanced users:\n",
      "You can also try to enable iterative refinement in the solver:\n",
      "https://github.com/locuslab/qpth/issues/6\n",
      "--------\n",
      "\n",
      "ndim:4000, neq=nineq:3000\n",
      "\n",
      "--------\n",
      "qpth warning: Returning an inaccurate and potentially incorrect solution.\n",
      "\n",
      "Some residual is large.\n",
      "Your problem may be infeasible or difficult.\n",
      "\n",
      "You can try using the CVXPY solver to see if your problem is feasible\n",
      "and you can use the verbose option to check the convergence status of\n",
      "our solver while increasing the number of iterations.\n",
      "\n",
      "Advanced users:\n",
      "You can also try to enable iterative refinement in the solver:\n",
      "https://github.com/locuslab/qpth/issues/6\n",
      "--------\n",
      "\n"
     ]
    }
   ],
   "source": [
    "l_stats = {}\n",
    "nl_list = [1000,2000,3000,4000]\n",
    "ncl_list = [500,1000,2000,3000]\n",
    "for ndim,neq in zip(nl_list,ncl_list):\n",
    "    print(f'ndim:{ndim}, neq=nineq:{neq}')\n",
    "    P,q,G,b,A,h,osA,l,u,Pm = QP_instances(ndim,neq,neq) # neq = nineq\n",
    "    x_value, y_value, time_spent_forward_osqp = osqp_interface(P,q,osA,l,u) # OSQP Forward\n",
    "    x_grad, y_grad, time_spent_backward_osqp = QP_OSQP_backward(y_value,P,G,A) # OSQP Backward\n",
    "\n",
    "    x_qpth_value, x_qpth_grad,time_spent_qpth_forward, time_qpth_backward= QP_qpth_evaluate(Pm,G,A,h,b,q)\n",
    "    exact_bb,t_spent = QP_cal_exact_backward(Pm,G,A,y_value,x_value,h) # Exact backward\n",
    "\n",
    "    dict_report(l_stats, 'Time OSQP Forward'+f' ndim:{ndim}'+f' neq=nineq={neq}', time_spent_forward_osqp)\n",
    "    dict_report(l_stats, 'Time OSQP Backward'+f' ndim:{ndim}'+f' neq=nineq={neq}', time_spent_backward_osqp)\n",
    "    dict_report(l_stats, 'Time QPTH Forward'+f' ndim:{ndim}'+f' neq=nineq={neq}', time_spent_qpth_forward)\n",
    "    dict_report(l_stats, 'Time QPTH Backward'+f' ndim:{ndim}'+f' neq=nineq={neq}', time_qpth_backward)\n",
    "    dict_report(l_stats, 'Time Exact Backward'+f' ndim:{ndim}'+f' neq=nineq={neq}', t_spent)\n"
   ],
   "metadata": {
    "collapsed": false,
    "pycharm": {
     "name": "#%%\n"
    }
   }
  },
  {
   "cell_type": "code",
   "execution_count": 20,
   "outputs": [
    {
     "data": {
      "text/plain": "                                                             0\navg                                                           \nTime OSQP Forward ndim:1000 neq=nineq=500     2.0e+00(0.0e+00)\nTime OSQP Backward ndim:1000 neq=nineq=500    5.4e-02(0.0e+00)\nTime QPTH Forward ndim:1000 neq=nineq=500     1.2e+00(0.0e+00)\nTime QPTH Backward ndim:1000 neq=nineq=500    1.0e-02(0.0e+00)\nTime Exact Backward ndim:1000 neq=nineq=500   8.9e-01(0.0e+00)\nTime OSQP Forward ndim:2000 neq=nineq=1000    2.2e+01(0.0e+00)\nTime OSQP Backward ndim:2000 neq=nineq=1000   2.9e-01(0.0e+00)\nTime QPTH Forward ndim:2000 neq=nineq=1000    2.4e+00(0.0e+00)\nTime QPTH Backward ndim:2000 neq=nineq=1000   1.1e-02(0.0e+00)\nTime Exact Backward ndim:2000 neq=nineq=1000  4.0e+00(0.0e+00)\nTime OSQP Forward ndim:3000 neq=nineq=2000    1.1e+02(0.0e+00)\nTime OSQP Backward ndim:3000 neq=nineq=2000   8.7e-01(0.0e+00)\nTime QPTH Forward ndim:3000 neq=nineq=2000    7.5e+00(0.0e+00)\nTime QPTH Backward ndim:3000 neq=nineq=2000   2.8e-02(0.0e+00)\nTime Exact Backward ndim:3000 neq=nineq=2000  7.7e+00(0.0e+00)\nTime OSQP Forward ndim:4000 neq=nineq=3000    3.4e+02(0.0e+00)\nTime OSQP Backward ndim:4000 neq=nineq=3000   1.5e+00(0.0e+00)\nTime QPTH Forward ndim:4000 neq=nineq=3000    1.3e+01(0.0e+00)\nTime QPTH Backward ndim:4000 neq=nineq=3000   5.1e-02(0.0e+00)\nTime Exact Backward ndim:4000 neq=nineq=3000  1.5e+01(0.0e+00)",
      "text/html": "<div>\n<style scoped>\n    .dataframe tbody tr th:only-of-type {\n        vertical-align: middle;\n    }\n\n    .dataframe tbody tr th {\n        vertical-align: top;\n    }\n\n    .dataframe thead th {\n        text-align: right;\n    }\n</style>\n<table border=\"1\" class=\"dataframe\">\n  <thead>\n    <tr style=\"text-align: right;\">\n      <th></th>\n      <th>0</th>\n    </tr>\n    <tr>\n      <th>avg</th>\n      <th></th>\n    </tr>\n  </thead>\n  <tbody>\n    <tr>\n      <th>Time OSQP Forward ndim:1000 neq=nineq=500</th>\n      <td>2.0e+00(0.0e+00)</td>\n    </tr>\n    <tr>\n      <th>Time OSQP Backward ndim:1000 neq=nineq=500</th>\n      <td>5.4e-02(0.0e+00)</td>\n    </tr>\n    <tr>\n      <th>Time QPTH Forward ndim:1000 neq=nineq=500</th>\n      <td>1.2e+00(0.0e+00)</td>\n    </tr>\n    <tr>\n      <th>Time QPTH Backward ndim:1000 neq=nineq=500</th>\n      <td>1.0e-02(0.0e+00)</td>\n    </tr>\n    <tr>\n      <th>Time Exact Backward ndim:1000 neq=nineq=500</th>\n      <td>8.9e-01(0.0e+00)</td>\n    </tr>\n    <tr>\n      <th>Time OSQP Forward ndim:2000 neq=nineq=1000</th>\n      <td>2.2e+01(0.0e+00)</td>\n    </tr>\n    <tr>\n      <th>Time OSQP Backward ndim:2000 neq=nineq=1000</th>\n      <td>2.9e-01(0.0e+00)</td>\n    </tr>\n    <tr>\n      <th>Time QPTH Forward ndim:2000 neq=nineq=1000</th>\n      <td>2.4e+00(0.0e+00)</td>\n    </tr>\n    <tr>\n      <th>Time QPTH Backward ndim:2000 neq=nineq=1000</th>\n      <td>1.1e-02(0.0e+00)</td>\n    </tr>\n    <tr>\n      <th>Time Exact Backward ndim:2000 neq=nineq=1000</th>\n      <td>4.0e+00(0.0e+00)</td>\n    </tr>\n    <tr>\n      <th>Time OSQP Forward ndim:3000 neq=nineq=2000</th>\n      <td>1.1e+02(0.0e+00)</td>\n    </tr>\n    <tr>\n      <th>Time OSQP Backward ndim:3000 neq=nineq=2000</th>\n      <td>8.7e-01(0.0e+00)</td>\n    </tr>\n    <tr>\n      <th>Time QPTH Forward ndim:3000 neq=nineq=2000</th>\n      <td>7.5e+00(0.0e+00)</td>\n    </tr>\n    <tr>\n      <th>Time QPTH Backward ndim:3000 neq=nineq=2000</th>\n      <td>2.8e-02(0.0e+00)</td>\n    </tr>\n    <tr>\n      <th>Time Exact Backward ndim:3000 neq=nineq=2000</th>\n      <td>7.7e+00(0.0e+00)</td>\n    </tr>\n    <tr>\n      <th>Time OSQP Forward ndim:4000 neq=nineq=3000</th>\n      <td>3.4e+02(0.0e+00)</td>\n    </tr>\n    <tr>\n      <th>Time OSQP Backward ndim:4000 neq=nineq=3000</th>\n      <td>1.5e+00(0.0e+00)</td>\n    </tr>\n    <tr>\n      <th>Time QPTH Forward ndim:4000 neq=nineq=3000</th>\n      <td>1.3e+01(0.0e+00)</td>\n    </tr>\n    <tr>\n      <th>Time QPTH Backward ndim:4000 neq=nineq=3000</th>\n      <td>5.1e-02(0.0e+00)</td>\n    </tr>\n    <tr>\n      <th>Time Exact Backward ndim:4000 neq=nineq=3000</th>\n      <td>1.5e+01(0.0e+00)</td>\n    </tr>\n  </tbody>\n</table>\n</div>"
     },
     "execution_count": 20,
     "metadata": {},
     "output_type": "execute_result"
    }
   ],
   "source": [
    "df_ls = get_results_table(l_stats)\n",
    "df_ls"
   ],
   "metadata": {
    "collapsed": false,
    "pycharm": {
     "name": "#%%\n"
    }
   }
  },
  {
   "cell_type": "code",
   "execution_count": 21,
   "outputs": [],
   "source": [
    "df_ls.to_csv('./Large_scale_qp.csv')"
   ],
   "metadata": {
    "collapsed": false,
    "pycharm": {
     "name": "#%%\n"
    }
   }
  },
  {
   "cell_type": "code",
   "execution_count": 6,
   "outputs": [],
   "source": [
    "# QPs with bounds\n",
    "def QP_Bounds_Problem(ndim,neq):\n",
    "    P = np.random.random((ndim,ndim))\n",
    "    P = P.T@P+(0.0001*np.eye(ndim,ndim))\n",
    "    Pm = P.copy()\n",
    "    P = sparse.csc_matrix(P)\n",
    "    q = np.random.random(ndim)\n",
    "    A = np.random.random((neq,ndim))\n",
    "    G = np.vstack([np.eye(ndim,ndim),-np.eye(ndim,ndim)])\n",
    "    b = np.random.random(neq)\n",
    "    h = np.hstack([np.ones(ndim),np.zeros(ndim)])\n",
    "    osA = np.vstack([G,A])\n",
    "    osA = sparse.csc_matrix(osA)\n",
    "    l = np.hstack([np.zeros(2*ndim)+1e-3, b])\n",
    "    u = np.hstack([np.ones(2*ndim), b])\n",
    "    return P,q,G,b,A,h,osA,l,u,Pm"
   ],
   "metadata": {
    "collapsed": false,
    "pycharm": {
     "name": "#%%\n"
    }
   }
  },
  {
   "cell_type": "code",
   "execution_count": 14,
   "outputs": [
    {
     "name": "stderr",
     "output_type": "stream",
     "text": [
      "100%|████████████████████████████████████████████████████████████████████████████████████████████████████████████| 20/20 [13:43<00:00, 41.19s/it]\n"
     ]
    }
   ],
   "source": [
    "l_stats = {}\n",
    "nl_list = [200,500,1000,2000]\n",
    "ncl_list = [100,250,500,1000]\n",
    "for iters in tqdm(range(20)):\n",
    "    for ndim,nineq in zip(nl_list,ncl_list):\n",
    "        P,q,G,b,A,h,osA,l,u,Pm = QP_instances(ndim,1,nineq)\n",
    "        x_value, y_value, time_spent_forward_osqp = osqp_interface(P,q,osA,l,u) # OSQP Forward\n",
    "        x_grad, y_grad, time_spent_backward_osqp = QP_OSQP_backward(y_value,P,G,A) # OSQP Backward\n",
    "\n",
    "        # x_qpth_value, x_qpth_grad,time_spent_qpth_forward, time_qpth_backward= QP_qpth_evaluate(Pm,G,A,h,b,q)\n",
    "        exact_bb,t_spent = QP_cal_exact_backward(Pm,G,A,y_value,x_value,h) # Exact backward\n",
    "\n",
    "        dict_report(l_stats, 'Time OSQP Forward'+f' ndim:{ndim}'+f' nineq={nineq}', time_spent_forward_osqp)\n",
    "        dict_report(l_stats, 'Time OSQP Backward'+f' ndim:{ndim}'+f' nineq={nineq}', time_spent_backward_osqp)\n",
    "        # dict_report(l_stats, 'Time QPTH Forward'+f' ndim:{ndim}'+f' neq=nineq={neq}', time_spent_qpth_forward)\n",
    "        # dict_report(l_stats, 'Time QPTH Backward'+f' ndim:{ndim}'+f' neq=nineq={neq}', time_qpth_backward)\n",
    "        dict_report(l_stats, 'Time Exact Backward'+f' ndim:{ndim}'+f' nineq={nineq}', t_spent)\n"
   ],
   "metadata": {
    "collapsed": false,
    "pycharm": {
     "name": "#%%\n"
    }
   }
  },
  {
   "cell_type": "code",
   "execution_count": 15,
   "outputs": [
    {
     "data": {
      "text/plain": "                                                         0\navg                                                       \nTime OSQP Forward ndim:200 nineq=100      3.4e-02(8.9e-03)\nTime OSQP Backward ndim:200 nineq=100     1.9e-03(5.5e-04)\nTime Exact Backward ndim:200 nineq=100    7.2e-01(2.2e-01)\nTime OSQP Forward ndim:500 nineq=250      1.9e-01(2.5e-02)\nTime OSQP Backward ndim:500 nineq=250     7.1e-03(7.6e-04)\nTime Exact Backward ndim:500 nineq=250    2.2e+00(5.3e-01)\nTime OSQP Forward ndim:1000 nineq=500     1.8e+00(3.3e-01)\nTime OSQP Backward ndim:1000 nineq=500    2.8e-02(1.9e-03)\nTime Exact Backward ndim:1000 nineq=500   3.3e+00(7.0e-01)\nTime OSQP Forward ndim:2000 nineq=1000    1.7e+01(2.5e+00)\nTime OSQP Backward ndim:2000 nineq=1000   1.2e-01(6.6e-03)\nTime Exact Backward ndim:2000 nineq=1000  4.8e+00(1.1e+00)",
      "text/html": "<div>\n<style scoped>\n    .dataframe tbody tr th:only-of-type {\n        vertical-align: middle;\n    }\n\n    .dataframe tbody tr th {\n        vertical-align: top;\n    }\n\n    .dataframe thead th {\n        text-align: right;\n    }\n</style>\n<table border=\"1\" class=\"dataframe\">\n  <thead>\n    <tr style=\"text-align: right;\">\n      <th></th>\n      <th>0</th>\n    </tr>\n    <tr>\n      <th>avg</th>\n      <th></th>\n    </tr>\n  </thead>\n  <tbody>\n    <tr>\n      <th>Time OSQP Forward ndim:200 nineq=100</th>\n      <td>3.4e-02(8.9e-03)</td>\n    </tr>\n    <tr>\n      <th>Time OSQP Backward ndim:200 nineq=100</th>\n      <td>1.9e-03(5.5e-04)</td>\n    </tr>\n    <tr>\n      <th>Time Exact Backward ndim:200 nineq=100</th>\n      <td>7.2e-01(2.2e-01)</td>\n    </tr>\n    <tr>\n      <th>Time OSQP Forward ndim:500 nineq=250</th>\n      <td>1.9e-01(2.5e-02)</td>\n    </tr>\n    <tr>\n      <th>Time OSQP Backward ndim:500 nineq=250</th>\n      <td>7.1e-03(7.6e-04)</td>\n    </tr>\n    <tr>\n      <th>Time Exact Backward ndim:500 nineq=250</th>\n      <td>2.2e+00(5.3e-01)</td>\n    </tr>\n    <tr>\n      <th>Time OSQP Forward ndim:1000 nineq=500</th>\n      <td>1.8e+00(3.3e-01)</td>\n    </tr>\n    <tr>\n      <th>Time OSQP Backward ndim:1000 nineq=500</th>\n      <td>2.8e-02(1.9e-03)</td>\n    </tr>\n    <tr>\n      <th>Time Exact Backward ndim:1000 nineq=500</th>\n      <td>3.3e+00(7.0e-01)</td>\n    </tr>\n    <tr>\n      <th>Time OSQP Forward ndim:2000 nineq=1000</th>\n      <td>1.7e+01(2.5e+00)</td>\n    </tr>\n    <tr>\n      <th>Time OSQP Backward ndim:2000 nineq=1000</th>\n      <td>1.2e-01(6.6e-03)</td>\n    </tr>\n    <tr>\n      <th>Time Exact Backward ndim:2000 nineq=1000</th>\n      <td>4.8e+00(1.1e+00)</td>\n    </tr>\n  </tbody>\n</table>\n</div>"
     },
     "execution_count": 15,
     "metadata": {},
     "output_type": "execute_result"
    }
   ],
   "source": [
    "df_ls = get_results_table(l_stats)\n",
    "df_ls"
   ],
   "metadata": {
    "collapsed": false,
    "pycharm": {
     "name": "#%%\n"
    }
   }
  },
  {
   "cell_type": "code",
   "execution_count": 16,
   "outputs": [],
   "source": [
    "df_ls.to_csv(\"./Large_scale_QPs.csv\")"
   ],
   "metadata": {
    "collapsed": false,
    "pycharm": {
     "name": "#%%\n"
    }
   }
  },
  {
   "cell_type": "markdown",
   "source": [
    "# 9. Large scale LPs Performance"
   ],
   "metadata": {
    "collapsed": false,
    "pycharm": {
     "name": "#%% md\n"
    }
   }
  },
  {
   "cell_type": "code",
   "execution_count": 18,
   "outputs": [],
   "source": [
    "def LP_instances(ndim,nineq,delta):\n",
    "    neq = nineq\n",
    "    s0 = np.random.randn(nineq)\n",
    "    lamb0 = np.maximum(-s0, 0)\n",
    "    s0 = np.maximum(s0, 0)\n",
    "    x0 = np.random.random(ndim) # one feasible solution\n",
    "\n",
    "    G = np.random.random((nineq, ndim))\n",
    "    A = np.random.random((neq, ndim))\n",
    "    b = A@x0\n",
    "    h = G @ x0 + s0\n",
    "    c = -G.T @ lamb0\n",
    "    delta = 1e-6\n",
    "    P = np.eye(ndim,ndim)*delta\n",
    "    return P,c,b,A,G,h\n",
    "\n",
    "def LP_cvxpy_backward(P,c,A,b,G,h):\n",
    "    nineq,ndim = A.shape\n",
    "    qq = cp.Parameter(ndim)\n",
    "    qq.value = c\n",
    "    x = cp.Variable(ndim)\n",
    "\n",
    "    prob = cp.Problem(cp.Minimize(qq.T@x),\n",
    "                 [A @ x == b,\n",
    "                  G @ x <= h\n",
    "                  ])\n",
    "    t3 = time.time()\n",
    "\n",
    "    prob.solve(requires_grad=True, solver='SCS')\n",
    "    time_spent_forward = time.time() - t3\n",
    "    t4 = time.time()\n",
    "    prob.backward()\n",
    "    time_spent_backward = time.time() - t4\n",
    "    return x.value,prob.value, qq.gradient,time_spent_forward,time_spent_backward\n",
    "\n",
    "def LP_OSQP_forward(P,G,A,b,h):\n",
    "    nineq,ndim = G.shape\n",
    "    neq = A.shape[0]\n",
    "    Pm = sparse.csc_matrix(P)\n",
    "    osA = np.vstack([G,A])\n",
    "    osA = sparse.csc_matrix(osA)\n",
    "    l = np.hstack([-np.inf*np.ones(nineq),b])\n",
    "    u = np.hstack([h,b])\n",
    "    x_value, y_value, time_spent = osqp_interface(Pm,c,osA,l,u)\n",
    "\n",
    "    return x_value,y_value, time_spent, np.dot(c,x_value)\n",
    "\n",
    "def LP_OSQP_backward(y_value,P,G,A):\n",
    "    nineq,ndim = G.shape\n",
    "    neq = A.shape[0]\n",
    "    lambs = y_value[:nineq] # active set\n",
    "    active_set = np.argwhere(lambs>1e-8)\n",
    "    bG = G[active_set,:].squeeze()\n",
    "    bb = np.zeros(neq)\n",
    "    bh = np.zeros(len(active_set))\n",
    "    bq = np.ones(ndim)\n",
    "    osnewA = np.vstack([bG,A])\n",
    "    osnewA = sparse.csc_matrix(osnewA)\n",
    "    l_new = np.hstack([bh,bb])\n",
    "    u_new = np.hstack([bh,bb])\n",
    "    x_grad, y_grad, time_spent_backward = osqp_interface(P,bq,osnewA,l_new,u_new)\n",
    "    return x_grad, y_grad, time_spent_backward\n",
    "\n",
    "def LP_qpth_evaluate(Pm, G, A, h, b, q):\n",
    "    nineq, ndim = G.shape\n",
    "    neq = A.shape[0]\n",
    "    qpf = QPFunction(verbose=0, maxIter=4000)\n",
    "    tP, tq, tG, th, tA, tb = [torch.Tensor(x).unsqueeze(0).cuda() for x in [Pm, q, G, h, A, b]]\n",
    "    tq.requires_grad = True\n",
    "\n",
    "    t6 = time.time()\n",
    "    qpth_x_value = qpf(tP, tq, tG, th, tA, tb)\n",
    "    t7 = time.time()\n",
    "    qpth_x_value.backward(torch.ones(1, ndim).cuda())\n",
    "    qpth_x_grad = tq.grad.squeeze().cpu().numpy()\n",
    "    qpth_x_value = qpth_x_value.squeeze().detach().cpu().numpy()\n",
    "    return qpth_x_value, qpth_x_grad, time.time() - t6, time.time() - t7\n",
    "\n",
    "\n",
    "def LP_cal_exact_backward(Pm,G,A,y_value,x_value,h):\n",
    "    nineq,ndim = G.shape\n",
    "    neq = A.shape[0]\n",
    "    lambs = y_value[:nineq] # active set\n",
    "    KKT_L1 = np.hstack([Pm,G.T,A.T])\n",
    "    KKT_L2 = np.hstack([np.diag(lambs)@G, np.diag(G@x_value-h),np.zeros((nineq,neq))])\n",
    "    KKT_L3 = np.hstack([A, np.zeros((neq,neq)),np.zeros((neq,nineq))])\n",
    "    KKT = np.vstack([KKT_L1,KKT_L2,KKT_L3])\n",
    "    t5 = time.time()\n",
    "    exact_bb =-(np.linalg.inv(KKT)@np.hstack([np.ones(ndim),np.zeros(nineq),np.zeros(neq)]))[:ndim]\n",
    "    return exact_bb,time.time()-t5"
   ],
   "metadata": {
    "collapsed": false,
    "pycharm": {
     "name": "#%%\n"
    }
   }
  },
  {
   "cell_type": "code",
   "execution_count": 19,
   "outputs": [
    {
     "name": "stderr",
     "output_type": "stream",
     "text": [
      " 17%|██████████████████▏                                                                                        | 34/200 [02:20<11:52,  4.29s/it]"
     ]
    },
    {
     "name": "stdout",
     "output_type": "stream",
     "text": [
      "\n",
      "--------\n",
      "qpth warning: Returning an inaccurate and potentially incorrect solution.\n",
      "\n",
      "Some residual is large.\n",
      "Your problem may be infeasible or difficult.\n",
      "\n",
      "You can try using the CVXPY solver to see if your problem is feasible\n",
      "and you can use the verbose option to check the convergence status of\n",
      "our solver while increasing the number of iterations.\n",
      "\n",
      "Advanced users:\n",
      "You can also try to enable iterative refinement in the solver:\n",
      "https://github.com/locuslab/qpth/issues/6\n",
      "--------\n",
      "\n"
     ]
    },
    {
     "name": "stderr",
     "output_type": "stream",
     "text": [
      " 18%|███████████████████▊                                                                                       | 37/200 [02:34<12:03,  4.44s/it]"
     ]
    },
    {
     "name": "stdout",
     "output_type": "stream",
     "text": [
      "\n",
      "--------\n",
      "qpth warning: Returning an inaccurate and potentially incorrect solution.\n",
      "\n",
      "Some residual is large.\n",
      "Your problem may be infeasible or difficult.\n",
      "\n",
      "You can try using the CVXPY solver to see if your problem is feasible\n",
      "and you can use the verbose option to check the convergence status of\n",
      "our solver while increasing the number of iterations.\n",
      "\n",
      "Advanced users:\n",
      "You can also try to enable iterative refinement in the solver:\n",
      "https://github.com/locuslab/qpth/issues/6\n",
      "--------\n",
      "\n"
     ]
    },
    {
     "name": "stderr",
     "output_type": "stream",
     "text": [
      " 30%|████████████████████████████████                                                                           | 60/200 [04:17<10:12,  4.37s/it]"
     ]
    },
    {
     "name": "stdout",
     "output_type": "stream",
     "text": [
      "\n",
      "--------\n",
      "qpth warning: Returning an inaccurate and potentially incorrect solution.\n",
      "\n",
      "Some residual is large.\n",
      "Your problem may be infeasible or difficult.\n",
      "\n",
      "You can try using the CVXPY solver to see if your problem is feasible\n",
      "and you can use the verbose option to check the convergence status of\n",
      "our solver while increasing the number of iterations.\n",
      "\n",
      "Advanced users:\n",
      "You can also try to enable iterative refinement in the solver:\n",
      "https://github.com/locuslab/qpth/issues/6\n",
      "--------\n",
      "\n"
     ]
    },
    {
     "name": "stderr",
     "output_type": "stream",
     "text": [
      " 34%|███████████████████████████████████▊                                                                       | 67/200 [04:49<09:52,  4.45s/it]"
     ]
    },
    {
     "name": "stdout",
     "output_type": "stream",
     "text": [
      "\n",
      "--------\n",
      "qpth warning: Returning an inaccurate and potentially incorrect solution.\n",
      "\n",
      "Some residual is large.\n",
      "Your problem may be infeasible or difficult.\n",
      "\n",
      "You can try using the CVXPY solver to see if your problem is feasible\n",
      "and you can use the verbose option to check the convergence status of\n",
      "our solver while increasing the number of iterations.\n",
      "\n",
      "Advanced users:\n",
      "You can also try to enable iterative refinement in the solver:\n",
      "https://github.com/locuslab/qpth/issues/6\n",
      "--------\n",
      "\n"
     ]
    },
    {
     "name": "stderr",
     "output_type": "stream",
     "text": [
      " 38%|█████████████████████████████████████████▏                                                                 | 77/200 [05:35<09:39,  4.71s/it]"
     ]
    },
    {
     "name": "stdout",
     "output_type": "stream",
     "text": [
      "\n",
      "--------\n",
      "qpth warning: Returning an inaccurate and potentially incorrect solution.\n",
      "\n",
      "Some residual is large.\n",
      "Your problem may be infeasible or difficult.\n",
      "\n",
      "You can try using the CVXPY solver to see if your problem is feasible\n",
      "and you can use the verbose option to check the convergence status of\n",
      "our solver while increasing the number of iterations.\n",
      "\n",
      "Advanced users:\n",
      "You can also try to enable iterative refinement in the solver:\n",
      "https://github.com/locuslab/qpth/issues/6\n",
      "--------\n",
      "\n"
     ]
    },
    {
     "name": "stderr",
     "output_type": "stream",
     "text": [
      " 40%|███████████████████████████████████████████▎                                                               | 81/200 [05:53<08:57,  4.52s/it]"
     ]
    },
    {
     "name": "stdout",
     "output_type": "stream",
     "text": [
      "\n",
      "--------\n",
      "qpth warning: Returning an inaccurate and potentially incorrect solution.\n",
      "\n",
      "Some residual is large.\n",
      "Your problem may be infeasible or difficult.\n",
      "\n",
      "You can try using the CVXPY solver to see if your problem is feasible\n",
      "and you can use the verbose option to check the convergence status of\n",
      "our solver while increasing the number of iterations.\n",
      "\n",
      "Advanced users:\n",
      "You can also try to enable iterative refinement in the solver:\n",
      "https://github.com/locuslab/qpth/issues/6\n",
      "--------\n",
      "\n"
     ]
    },
    {
     "name": "stderr",
     "output_type": "stream",
     "text": [
      " 43%|██████████████████████████████████████████████                                                             | 86/200 [06:16<08:38,  4.55s/it]"
     ]
    },
    {
     "name": "stdout",
     "output_type": "stream",
     "text": [
      "\n",
      "--------\n",
      "qpth warning: Returning an inaccurate and potentially incorrect solution.\n",
      "\n",
      "Some residual is large.\n",
      "Your problem may be infeasible or difficult.\n",
      "\n",
      "You can try using the CVXPY solver to see if your problem is feasible\n",
      "and you can use the verbose option to check the convergence status of\n",
      "our solver while increasing the number of iterations.\n",
      "\n",
      "Advanced users:\n",
      "You can also try to enable iterative refinement in the solver:\n",
      "https://github.com/locuslab/qpth/issues/6\n",
      "--------\n",
      "\n"
     ]
    },
    {
     "name": "stderr",
     "output_type": "stream",
     "text": [
      " 50%|████████████████████████████████████████████████████▉                                                      | 99/200 [07:15<07:44,  4.59s/it]"
     ]
    },
    {
     "name": "stdout",
     "output_type": "stream",
     "text": [
      "\n",
      "--------\n",
      "qpth warning: Returning an inaccurate and potentially incorrect solution.\n",
      "\n",
      "Some residual is large.\n",
      "Your problem may be infeasible or difficult.\n",
      "\n",
      "You can try using the CVXPY solver to see if your problem is feasible\n",
      "and you can use the verbose option to check the convergence status of\n",
      "our solver while increasing the number of iterations.\n",
      "\n",
      "Advanced users:\n",
      "You can also try to enable iterative refinement in the solver:\n",
      "https://github.com/locuslab/qpth/issues/6\n",
      "--------\n",
      "\n"
     ]
    },
    {
     "name": "stderr",
     "output_type": "stream",
     "text": [
      " 50%|█████████████████████████████████████████████████████▌                                                    | 101/200 [07:24<07:25,  4.50s/it]"
     ]
    },
    {
     "name": "stdout",
     "output_type": "stream",
     "text": [
      "\n",
      "--------\n",
      "qpth warning: Returning an inaccurate and potentially incorrect solution.\n",
      "\n",
      "Some residual is large.\n",
      "Your problem may be infeasible or difficult.\n",
      "\n",
      "You can try using the CVXPY solver to see if your problem is feasible\n",
      "and you can use the verbose option to check the convergence status of\n",
      "our solver while increasing the number of iterations.\n",
      "\n",
      "Advanced users:\n",
      "You can also try to enable iterative refinement in the solver:\n",
      "https://github.com/locuslab/qpth/issues/6\n",
      "--------\n",
      "\n"
     ]
    },
    {
     "name": "stderr",
     "output_type": "stream",
     "text": [
      " 54%|████████████████████████████████████████████████████████▋                                                 | 107/200 [07:51<06:54,  4.46s/it]"
     ]
    },
    {
     "name": "stdout",
     "output_type": "stream",
     "text": [
      "\n",
      "--------\n",
      "qpth warning: Returning an inaccurate and potentially incorrect solution.\n",
      "\n",
      "Some residual is large.\n",
      "Your problem may be infeasible or difficult.\n",
      "\n",
      "You can try using the CVXPY solver to see if your problem is feasible\n",
      "and you can use the verbose option to check the convergence status of\n",
      "our solver while increasing the number of iterations.\n",
      "\n",
      "Advanced users:\n",
      "You can also try to enable iterative refinement in the solver:\n",
      "https://github.com/locuslab/qpth/issues/6\n",
      "--------\n",
      "\n"
     ]
    },
    {
     "name": "stderr",
     "output_type": "stream",
     "text": [
      " 54%|█████████████████████████████████████████████████████████▏                                                | 108/200 [07:55<06:54,  4.50s/it]"
     ]
    },
    {
     "name": "stdout",
     "output_type": "stream",
     "text": [
      "\n",
      "--------\n",
      "qpth warning: Returning an inaccurate and potentially incorrect solution.\n",
      "\n",
      "Some residual is large.\n",
      "Your problem may be infeasible or difficult.\n",
      "\n",
      "You can try using the CVXPY solver to see if your problem is feasible\n",
      "and you can use the verbose option to check the convergence status of\n",
      "our solver while increasing the number of iterations.\n",
      "\n",
      "Advanced users:\n",
      "You can also try to enable iterative refinement in the solver:\n",
      "https://github.com/locuslab/qpth/issues/6\n",
      "--------\n",
      "\n"
     ]
    },
    {
     "name": "stderr",
     "output_type": "stream",
     "text": [
      " 55%|█████████████████████████████████████████████████████████▊                                                | 109/200 [07:59<06:46,  4.47s/it]"
     ]
    },
    {
     "name": "stdout",
     "output_type": "stream",
     "text": [
      "\n",
      "--------\n",
      "qpth warning: Returning an inaccurate and potentially incorrect solution.\n",
      "\n",
      "Some residual is large.\n",
      "Your problem may be infeasible or difficult.\n",
      "\n",
      "You can try using the CVXPY solver to see if your problem is feasible\n",
      "and you can use the verbose option to check the convergence status of\n",
      "our solver while increasing the number of iterations.\n",
      "\n",
      "Advanced users:\n",
      "You can also try to enable iterative refinement in the solver:\n",
      "https://github.com/locuslab/qpth/issues/6\n",
      "--------\n",
      "\n"
     ]
    },
    {
     "name": "stderr",
     "output_type": "stream",
     "text": [
      " 56%|███████████████████████████████████████████████████████████▉                                              | 113/200 [08:18<06:34,  4.53s/it]"
     ]
    },
    {
     "name": "stdout",
     "output_type": "stream",
     "text": [
      "\n",
      "--------\n",
      "qpth warning: Returning an inaccurate and potentially incorrect solution.\n",
      "\n",
      "Some residual is large.\n",
      "Your problem may be infeasible or difficult.\n",
      "\n",
      "You can try using the CVXPY solver to see if your problem is feasible\n",
      "and you can use the verbose option to check the convergence status of\n",
      "our solver while increasing the number of iterations.\n",
      "\n",
      "Advanced users:\n",
      "You can also try to enable iterative refinement in the solver:\n",
      "https://github.com/locuslab/qpth/issues/6\n",
      "--------\n",
      "\n"
     ]
    },
    {
     "name": "stderr",
     "output_type": "stream",
     "text": [
      " 58%|██████████████████████████████████████████████████████████████                                            | 117/200 [08:36<06:16,  4.53s/it]"
     ]
    },
    {
     "name": "stdout",
     "output_type": "stream",
     "text": [
      "\n",
      "--------\n",
      "qpth warning: Returning an inaccurate and potentially incorrect solution.\n",
      "\n",
      "Some residual is large.\n",
      "Your problem may be infeasible or difficult.\n",
      "\n",
      "You can try using the CVXPY solver to see if your problem is feasible\n",
      "and you can use the verbose option to check the convergence status of\n",
      "our solver while increasing the number of iterations.\n",
      "\n",
      "Advanced users:\n",
      "You can also try to enable iterative refinement in the solver:\n",
      "https://github.com/locuslab/qpth/issues/6\n",
      "--------\n",
      "\n"
     ]
    },
    {
     "name": "stderr",
     "output_type": "stream",
     "text": [
      " 66%|██████████████████████████████████████████████████████████████████████▍                                   | 133/200 [09:48<05:02,  4.52s/it]"
     ]
    },
    {
     "name": "stdout",
     "output_type": "stream",
     "text": [
      "\n",
      "--------\n",
      "qpth warning: Returning an inaccurate and potentially incorrect solution.\n",
      "\n",
      "Some residual is large.\n",
      "Your problem may be infeasible or difficult.\n",
      "\n",
      "You can try using the CVXPY solver to see if your problem is feasible\n",
      "and you can use the verbose option to check the convergence status of\n",
      "our solver while increasing the number of iterations.\n",
      "\n",
      "Advanced users:\n",
      "You can also try to enable iterative refinement in the solver:\n",
      "https://github.com/locuslab/qpth/issues/6\n",
      "--------\n",
      "\n"
     ]
    },
    {
     "name": "stderr",
     "output_type": "stream",
     "text": [
      " 76%|████████████████████████████████████████████████████████████████████████████████▌                         | 152/200 [11:14<03:38,  4.54s/it]"
     ]
    },
    {
     "name": "stdout",
     "output_type": "stream",
     "text": [
      "\n",
      "--------\n",
      "qpth warning: Returning an inaccurate and potentially incorrect solution.\n",
      "\n",
      "Some residual is large.\n",
      "Your problem may be infeasible or difficult.\n",
      "\n",
      "You can try using the CVXPY solver to see if your problem is feasible\n",
      "and you can use the verbose option to check the convergence status of\n",
      "our solver while increasing the number of iterations.\n",
      "\n",
      "Advanced users:\n",
      "You can also try to enable iterative refinement in the solver:\n",
      "https://github.com/locuslab/qpth/issues/6\n",
      "--------\n",
      "\n"
     ]
    },
    {
     "name": "stderr",
     "output_type": "stream",
     "text": [
      " 82%|██████████████████████████████████████████████████████████████████████████████████████▉                   | 164/200 [12:08<02:42,  4.51s/it]"
     ]
    },
    {
     "name": "stdout",
     "output_type": "stream",
     "text": [
      "\n",
      "--------\n",
      "qpth warning: Returning an inaccurate and potentially incorrect solution.\n",
      "\n",
      "Some residual is large.\n",
      "Your problem may be infeasible or difficult.\n",
      "\n",
      "You can try using the CVXPY solver to see if your problem is feasible\n",
      "and you can use the verbose option to check the convergence status of\n",
      "our solver while increasing the number of iterations.\n",
      "\n",
      "Advanced users:\n",
      "You can also try to enable iterative refinement in the solver:\n",
      "https://github.com/locuslab/qpth/issues/6\n",
      "--------\n",
      "\n"
     ]
    },
    {
     "name": "stderr",
     "output_type": "stream",
     "text": [
      " 86%|███████████████████████████████████████████████████████████████████████████████████████████▋              | 173/200 [12:49<02:03,  4.57s/it]"
     ]
    },
    {
     "name": "stdout",
     "output_type": "stream",
     "text": [
      "\n",
      "--------\n",
      "qpth warning: Returning an inaccurate and potentially incorrect solution.\n",
      "\n",
      "Some residual is large.\n",
      "Your problem may be infeasible or difficult.\n",
      "\n",
      "You can try using the CVXPY solver to see if your problem is feasible\n",
      "and you can use the verbose option to check the convergence status of\n",
      "our solver while increasing the number of iterations.\n",
      "\n",
      "Advanced users:\n",
      "You can also try to enable iterative refinement in the solver:\n",
      "https://github.com/locuslab/qpth/issues/6\n",
      "--------\n",
      "\n"
     ]
    },
    {
     "name": "stderr",
     "output_type": "stream",
     "text": [
      " 87%|████████████████████████████████████████████████████████████████████████████████████████████▏             | 174/200 [12:53<01:57,  4.53s/it]"
     ]
    },
    {
     "name": "stdout",
     "output_type": "stream",
     "text": [
      "\n",
      "--------\n",
      "qpth warning: Returning an inaccurate and potentially incorrect solution.\n",
      "\n",
      "Some residual is large.\n",
      "Your problem may be infeasible or difficult.\n",
      "\n",
      "You can try using the CVXPY solver to see if your problem is feasible\n",
      "and you can use the verbose option to check the convergence status of\n",
      "our solver while increasing the number of iterations.\n",
      "\n",
      "Advanced users:\n",
      "You can also try to enable iterative refinement in the solver:\n",
      "https://github.com/locuslab/qpth/issues/6\n",
      "--------\n",
      "\n"
     ]
    },
    {
     "name": "stderr",
     "output_type": "stream",
     "text": [
      " 89%|██████████████████████████████████████████████████████████████████████████████████████████████▎           | 178/200 [13:11<01:37,  4.43s/it]"
     ]
    },
    {
     "name": "stdout",
     "output_type": "stream",
     "text": [
      "\n",
      "--------\n",
      "qpth warning: Returning an inaccurate and potentially incorrect solution.\n",
      "\n",
      "Some residual is large.\n",
      "Your problem may be infeasible or difficult.\n",
      "\n",
      "You can try using the CVXPY solver to see if your problem is feasible\n",
      "and you can use the verbose option to check the convergence status of\n",
      "our solver while increasing the number of iterations.\n",
      "\n",
      "Advanced users:\n",
      "You can also try to enable iterative refinement in the solver:\n",
      "https://github.com/locuslab/qpth/issues/6\n",
      "--------\n",
      "\n"
     ]
    },
    {
     "name": "stderr",
     "output_type": "stream",
     "text": [
      " 90%|███████████████████████████████████████████████████████████████████████████████████████████████▉          | 181/200 [13:24<01:24,  4.44s/it]"
     ]
    },
    {
     "name": "stdout",
     "output_type": "stream",
     "text": [
      "\n",
      "--------\n",
      "qpth warning: Returning an inaccurate and potentially incorrect solution.\n",
      "\n",
      "Some residual is large.\n",
      "Your problem may be infeasible or difficult.\n",
      "\n",
      "You can try using the CVXPY solver to see if your problem is feasible\n",
      "and you can use the verbose option to check the convergence status of\n",
      "our solver while increasing the number of iterations.\n",
      "\n",
      "Advanced users:\n",
      "You can also try to enable iterative refinement in the solver:\n",
      "https://github.com/locuslab/qpth/issues/6\n",
      "--------\n",
      "\n"
     ]
    },
    {
     "name": "stderr",
     "output_type": "stream",
     "text": [
      " 95%|████████████████████████████████████████████████████████████████████████████████████████████████████▋     | 190/200 [14:04<00:44,  4.42s/it]"
     ]
    },
    {
     "name": "stdout",
     "output_type": "stream",
     "text": [
      "\n",
      "--------\n",
      "qpth warning: Returning an inaccurate and potentially incorrect solution.\n",
      "\n",
      "Some residual is large.\n",
      "Your problem may be infeasible or difficult.\n",
      "\n",
      "You can try using the CVXPY solver to see if your problem is feasible\n",
      "and you can use the verbose option to check the convergence status of\n",
      "our solver while increasing the number of iterations.\n",
      "\n",
      "Advanced users:\n",
      "You can also try to enable iterative refinement in the solver:\n",
      "https://github.com/locuslab/qpth/issues/6\n",
      "--------\n",
      "\n"
     ]
    },
    {
     "name": "stderr",
     "output_type": "stream",
     "text": [
      " 96%|██████████████████████████████████████████████████████████████████████████████████████████████████████▎   | 193/200 [14:17<00:31,  4.50s/it]"
     ]
    },
    {
     "name": "stdout",
     "output_type": "stream",
     "text": [
      "\n",
      "--------\n",
      "qpth warning: Returning an inaccurate and potentially incorrect solution.\n",
      "\n",
      "Some residual is large.\n",
      "Your problem may be infeasible or difficult.\n",
      "\n",
      "You can try using the CVXPY solver to see if your problem is feasible\n",
      "and you can use the verbose option to check the convergence status of\n",
      "our solver while increasing the number of iterations.\n",
      "\n",
      "Advanced users:\n",
      "You can also try to enable iterative refinement in the solver:\n",
      "https://github.com/locuslab/qpth/issues/6\n",
      "--------\n",
      "\n"
     ]
    },
    {
     "name": "stderr",
     "output_type": "stream",
     "text": [
      " 98%|████████████████████████████████████████████████████████████████████████████████████████████████████████▍ | 197/200 [14:35<00:13,  4.46s/it]"
     ]
    },
    {
     "name": "stdout",
     "output_type": "stream",
     "text": [
      "\n",
      "--------\n",
      "qpth warning: Returning an inaccurate and potentially incorrect solution.\n",
      "\n",
      "Some residual is large.\n",
      "Your problem may be infeasible or difficult.\n",
      "\n",
      "You can try using the CVXPY solver to see if your problem is feasible\n",
      "and you can use the verbose option to check the convergence status of\n",
      "our solver while increasing the number of iterations.\n",
      "\n",
      "Advanced users:\n",
      "You can also try to enable iterative refinement in the solver:\n",
      "https://github.com/locuslab/qpth/issues/6\n",
      "--------\n",
      "\n"
     ]
    },
    {
     "name": "stderr",
     "output_type": "stream",
     "text": [
      "100%|██████████████████████████████████████████████████████████████████████████████████████████████████████████| 200/200 [14:48<00:00,  4.44s/it]\n"
     ]
    }
   ],
   "source": [
    "n_list = [10, 50, 100, 500]\n",
    "nconstraints_list = [5, 10, 20, 100]\n",
    "delta = 1e-6\n",
    "lp_stats = {}\n",
    "iters = 200\n",
    "for i in tqdm(range(iters)):\n",
    "    for ndim, neq in zip(n_list, nconstraints_list):\n",
    "        P,c,b,A,G,h = LP_instances(ndim, neq,delta)  # neq = nineq\n",
    "        Pm = sparse.csc_matrix(P)\n",
    "        x_value,y_value, time_spent, f_value = LP_OSQP_forward(Pm,G,A,b,h) # OSQP Forward\n",
    "\n",
    "        x_cp_value, y_cp_value, x_cp_grad, time_spent_forward, time_spent_backward = LP_cvxpy_backward(P,c,A,b,G,h)  # cvxpy Forward and Backward\n",
    "        x_grad, y_grad, time_spent_backward_osqp = LP_OSQP_backward(y_value,Pm,G,A)  # OSQP Backward\n",
    "        x_qpth_value, x_qpth_grad,time_spent_qpth_forward, time_qpth_backward=LP_qpth_evaluate(P, G, A, h, b, c)\n",
    "        exact_bb, t_spent = LP_cal_exact_backward(P,G,A,y_value,x_value,h)  # Exact backward\n",
    "\n",
    "        acc_osqp_bb = cal_L2_accuracy(exact_bb, x_grad)\n",
    "        acc_cvxpy_bb = cal_L2_accuracy(exact_bb, x_cp_grad)\n",
    "        acc_qpth_bb = cal_L2_accuracy(exact_bb, x_qpth_grad)\n",
    "\n",
    "        dict_report(lp_stats, 'Time OSQP Forward' + f' ndim:{ndim}' + f' neq=nineq={neq}', time_spent)\n",
    "        dict_report(lp_stats, 'Time OSQP Backward' + f' ndim:{ndim}' + f' neq=nineq={neq}', time_spent_backward_osqp)\n",
    "        dict_report(lp_stats, 'Time CVXPY Forward' + f' ndim:{ndim}' + f' neq=nineq={neq}', time_spent_forward)\n",
    "        dict_report(lp_stats, 'Time CVXPY Backward' + f' ndim:{ndim}' + f' neq=nineq={neq}', time_spent_backward)\n",
    "        dict_report(lp_stats, 'Time QPTH Forward' + f' ndim:{ndim}' + f' neq=nineq={neq}', time_spent_qpth_forward)\n",
    "        dict_report(lp_stats, 'Time QPTH Backward' + f' ndim:{ndim}' + f' neq=nineq={neq}', time_qpth_backward)\n",
    "        dict_report(lp_stats, 'Time Exact Backward' + f' ndim:{ndim}' + f' neq=nineq={neq}', t_spent)\n",
    "\n",
    "        dict_report(lp_stats, 'Accuracy OSQP Forward' + f' ndim:{ndim}' + f' neq=nineq={neq}', f_value)\n",
    "        dict_report(lp_stats, 'Accuracy CVXPY Forward' + f' ndim:{ndim}' + f' neq=nineq={neq}', np.dot(c,x_cp_value))\n",
    "        dict_report(lp_stats, 'Accuracy QPTH Forward' + f' ndim:{ndim}' + f' neq=nineq={neq}', np.dot(c,x_qpth_value))\n",
    "        dict_report(lp_stats, 'Accuracy OSQP Backward' + f' ndim:{ndim}' + f' neq=nineq={neq}', acc_osqp_bb)\n",
    "        dict_report(lp_stats, 'Accuracy CVXPY Backward' + f' ndim:{ndim}' + f' neq=nineq={neq}', acc_cvxpy_bb)\n",
    "        dict_report(lp_stats, 'Accuracy QPTH Backward' + f' ndim:{ndim}' + f' neq=nineq={neq}', acc_qpth_bb)\n",
    "    if i>1:\n",
    "        pd.DataFrame(lp_stats).to_csv('~/PONet/solver/BPQP_LP_raw_results(2).csv')\n"
   ],
   "metadata": {
    "collapsed": false,
    "pycharm": {
     "name": "#%%\n"
    }
   }
  },
  {
   "cell_type": "code",
   "execution_count": 20,
   "outputs": [
    {
     "data": {
      "text/plain": "                                                                0\navg                                                              \nTime OSQP Forward ndim:10 neq=nineq=5            1.1e-04(7.1e-05)\nTime OSQP Backward ndim:10 neq=nineq=5           1.3e-04(8.4e-04)\nTime CVXPY Forward ndim:10 neq=nineq=5           2.4e-02(7.7e-03)\nTime CVXPY Backward ndim:10 neq=nineq=5          4.3e-03(2.8e-03)\nTime QPTH Forward ndim:10 neq=nineq=5            1.1e-01(2.4e-02)\nTime QPTH Backward ndim:10 neq=nineq=5           3.9e-03(1.1e-03)\nTime Exact Backward ndim:10 neq=nineq=5          1.2e-03(2.0e-03)\nAccuracy OSQP Forward ndim:10 neq=nineq=5       -4.7e+00(3.6e+00)\nAccuracy CVXPY Forward ndim:10 neq=nineq=5      -4.7e+00(3.6e+00)\nAccuracy QPTH Forward ndim:10 neq=nineq=5       -4.7e+00(3.6e+00)\nAccuracy OSQP Backward ndim:10 neq=nineq=5       1.8e-02(2.4e-01)\nAccuracy CVXPY Backward ndim:10 neq=nineq=5      3.4e+05(1.8e+05)\nAccuracy QPTH Backward ndim:10 neq=nineq=5       2.3e+04(6.9e+04)\nTime OSQP Forward ndim:50 neq=nineq=10           3.9e-04(1.3e-04)\nTime OSQP Backward ndim:50 neq=nineq=10          1.3e-04(3.7e-05)\nTime CVXPY Forward ndim:50 neq=nineq=10          2.2e-02(5.6e-03)\nTime CVXPY Backward ndim:50 neq=nineq=10         3.7e-03(9.6e-04)\nTime QPTH Forward ndim:50 neq=nineq=10           1.0e-01(2.5e-02)\nTime QPTH Backward ndim:50 neq=nineq=10          3.7e-03(1.1e-03)\nTime Exact Backward ndim:50 neq=nineq=10         1.9e-02(1.2e-02)\nAccuracy OSQP Forward ndim:50 neq=nineq=10      -4.9e+01(2.4e+01)\nAccuracy CVXPY Forward ndim:50 neq=nineq=10     -4.9e+01(2.4e+01)\nAccuracy QPTH Forward ndim:50 neq=nineq=10      -4.9e+01(2.4e+01)\nAccuracy OSQP Backward ndim:50 neq=nineq=10      8.4e-04(3.9e-03)\nAccuracy CVXPY Backward ndim:50 neq=nineq=10     8.7e+05(1.2e+05)\nAccuracy QPTH Backward ndim:50 neq=nineq=10      1.2e+05(1.3e+05)\nTime OSQP Forward ndim:100 neq=nineq=20          2.2e-03(6.6e-04)\nTime OSQP Backward ndim:100 neq=nineq=20         5.8e-04(1.3e-03)\nTime CVXPY Forward ndim:100 neq=nineq=20         3.9e-02(1.2e-02)\nTime CVXPY Backward ndim:100 neq=nineq=20        6.1e-03(2.2e-03)\nTime QPTH Forward ndim:100 neq=nineq=20          1.1e-01(2.3e-02)\nTime QPTH Backward ndim:100 neq=nineq=20         4.0e-03(9.7e-04)\nTime Exact Backward ndim:100 neq=nineq=20        2.4e-01(3.6e-02)\nAccuracy OSQP Forward ndim:100 neq=nineq=20     -2.0e+02(6.2e+01)\nAccuracy CVXPY Forward ndim:100 neq=nineq=20    -2.0e+02(6.2e+01)\nAccuracy QPTH Forward ndim:100 neq=nineq=20     -2.0e+02(7.6e+01)\nAccuracy OSQP Backward ndim:100 neq=nineq=20     1.9e-03(4.4e-03)\nAccuracy CVXPY Backward ndim:100 neq=nineq=20    8.9e+05(8.4e+04)\nAccuracy QPTH Backward ndim:100 neq=nineq=20     2.1e+05(1.1e+05)\nTime OSQP Forward ndim:500 neq=nineq=100         7.0e-02(2.1e-02)\nTime OSQP Backward ndim:500 neq=nineq=100        4.8e-03(7.9e-04)\nTime CVXPY Forward ndim:500 neq=nineq=100        2.8e-01(2.0e-02)\nTime CVXPY Backward ndim:500 neq=nineq=100       2.6e-02(2.8e-03)\nTime QPTH Forward ndim:500 neq=nineq=100         2.4e-01(5.8e-02)\nTime QPTH Backward ndim:500 neq=nineq=100        5.9e-03(9.2e-04)\nTime Exact Backward ndim:500 neq=nineq=100       3.0e+00(1.3e-01)\nAccuracy OSQP Forward ndim:500 neq=nineq=100    -4.9e+03(6.9e+02)\nAccuracy CVXPY Forward ndim:500 neq=nineq=100   -4.9e+03(6.9e+02)\nAccuracy QPTH Forward ndim:500 neq=nineq=100    -4.6e+03(5.6e+03)\nAccuracy OSQP Backward ndim:500 neq=nineq=100    2.0e-04(1.2e-03)\nAccuracy CVXPY Backward ndim:500 neq=nineq=100   8.8e+05(4.0e+04)\nAccuracy QPTH Backward ndim:500 neq=nineq=100    3.0e+05(6.1e+04)",
      "text/html": "<div>\n<style scoped>\n    .dataframe tbody tr th:only-of-type {\n        vertical-align: middle;\n    }\n\n    .dataframe tbody tr th {\n        vertical-align: top;\n    }\n\n    .dataframe thead th {\n        text-align: right;\n    }\n</style>\n<table border=\"1\" class=\"dataframe\">\n  <thead>\n    <tr style=\"text-align: right;\">\n      <th></th>\n      <th>0</th>\n    </tr>\n    <tr>\n      <th>avg</th>\n      <th></th>\n    </tr>\n  </thead>\n  <tbody>\n    <tr>\n      <th>Time OSQP Forward ndim:10 neq=nineq=5</th>\n      <td>1.1e-04(7.1e-05)</td>\n    </tr>\n    <tr>\n      <th>Time OSQP Backward ndim:10 neq=nineq=5</th>\n      <td>1.3e-04(8.4e-04)</td>\n    </tr>\n    <tr>\n      <th>Time CVXPY Forward ndim:10 neq=nineq=5</th>\n      <td>2.4e-02(7.7e-03)</td>\n    </tr>\n    <tr>\n      <th>Time CVXPY Backward ndim:10 neq=nineq=5</th>\n      <td>4.3e-03(2.8e-03)</td>\n    </tr>\n    <tr>\n      <th>Time QPTH Forward ndim:10 neq=nineq=5</th>\n      <td>1.1e-01(2.4e-02)</td>\n    </tr>\n    <tr>\n      <th>Time QPTH Backward ndim:10 neq=nineq=5</th>\n      <td>3.9e-03(1.1e-03)</td>\n    </tr>\n    <tr>\n      <th>Time Exact Backward ndim:10 neq=nineq=5</th>\n      <td>1.2e-03(2.0e-03)</td>\n    </tr>\n    <tr>\n      <th>Accuracy OSQP Forward ndim:10 neq=nineq=5</th>\n      <td>-4.7e+00(3.6e+00)</td>\n    </tr>\n    <tr>\n      <th>Accuracy CVXPY Forward ndim:10 neq=nineq=5</th>\n      <td>-4.7e+00(3.6e+00)</td>\n    </tr>\n    <tr>\n      <th>Accuracy QPTH Forward ndim:10 neq=nineq=5</th>\n      <td>-4.7e+00(3.6e+00)</td>\n    </tr>\n    <tr>\n      <th>Accuracy OSQP Backward ndim:10 neq=nineq=5</th>\n      <td>1.8e-02(2.4e-01)</td>\n    </tr>\n    <tr>\n      <th>Accuracy CVXPY Backward ndim:10 neq=nineq=5</th>\n      <td>3.4e+05(1.8e+05)</td>\n    </tr>\n    <tr>\n      <th>Accuracy QPTH Backward ndim:10 neq=nineq=5</th>\n      <td>2.3e+04(6.9e+04)</td>\n    </tr>\n    <tr>\n      <th>Time OSQP Forward ndim:50 neq=nineq=10</th>\n      <td>3.9e-04(1.3e-04)</td>\n    </tr>\n    <tr>\n      <th>Time OSQP Backward ndim:50 neq=nineq=10</th>\n      <td>1.3e-04(3.7e-05)</td>\n    </tr>\n    <tr>\n      <th>Time CVXPY Forward ndim:50 neq=nineq=10</th>\n      <td>2.2e-02(5.6e-03)</td>\n    </tr>\n    <tr>\n      <th>Time CVXPY Backward ndim:50 neq=nineq=10</th>\n      <td>3.7e-03(9.6e-04)</td>\n    </tr>\n    <tr>\n      <th>Time QPTH Forward ndim:50 neq=nineq=10</th>\n      <td>1.0e-01(2.5e-02)</td>\n    </tr>\n    <tr>\n      <th>Time QPTH Backward ndim:50 neq=nineq=10</th>\n      <td>3.7e-03(1.1e-03)</td>\n    </tr>\n    <tr>\n      <th>Time Exact Backward ndim:50 neq=nineq=10</th>\n      <td>1.9e-02(1.2e-02)</td>\n    </tr>\n    <tr>\n      <th>Accuracy OSQP Forward ndim:50 neq=nineq=10</th>\n      <td>-4.9e+01(2.4e+01)</td>\n    </tr>\n    <tr>\n      <th>Accuracy CVXPY Forward ndim:50 neq=nineq=10</th>\n      <td>-4.9e+01(2.4e+01)</td>\n    </tr>\n    <tr>\n      <th>Accuracy QPTH Forward ndim:50 neq=nineq=10</th>\n      <td>-4.9e+01(2.4e+01)</td>\n    </tr>\n    <tr>\n      <th>Accuracy OSQP Backward ndim:50 neq=nineq=10</th>\n      <td>8.4e-04(3.9e-03)</td>\n    </tr>\n    <tr>\n      <th>Accuracy CVXPY Backward ndim:50 neq=nineq=10</th>\n      <td>8.7e+05(1.2e+05)</td>\n    </tr>\n    <tr>\n      <th>Accuracy QPTH Backward ndim:50 neq=nineq=10</th>\n      <td>1.2e+05(1.3e+05)</td>\n    </tr>\n    <tr>\n      <th>Time OSQP Forward ndim:100 neq=nineq=20</th>\n      <td>2.2e-03(6.6e-04)</td>\n    </tr>\n    <tr>\n      <th>Time OSQP Backward ndim:100 neq=nineq=20</th>\n      <td>5.8e-04(1.3e-03)</td>\n    </tr>\n    <tr>\n      <th>Time CVXPY Forward ndim:100 neq=nineq=20</th>\n      <td>3.9e-02(1.2e-02)</td>\n    </tr>\n    <tr>\n      <th>Time CVXPY Backward ndim:100 neq=nineq=20</th>\n      <td>6.1e-03(2.2e-03)</td>\n    </tr>\n    <tr>\n      <th>Time QPTH Forward ndim:100 neq=nineq=20</th>\n      <td>1.1e-01(2.3e-02)</td>\n    </tr>\n    <tr>\n      <th>Time QPTH Backward ndim:100 neq=nineq=20</th>\n      <td>4.0e-03(9.7e-04)</td>\n    </tr>\n    <tr>\n      <th>Time Exact Backward ndim:100 neq=nineq=20</th>\n      <td>2.4e-01(3.6e-02)</td>\n    </tr>\n    <tr>\n      <th>Accuracy OSQP Forward ndim:100 neq=nineq=20</th>\n      <td>-2.0e+02(6.2e+01)</td>\n    </tr>\n    <tr>\n      <th>Accuracy CVXPY Forward ndim:100 neq=nineq=20</th>\n      <td>-2.0e+02(6.2e+01)</td>\n    </tr>\n    <tr>\n      <th>Accuracy QPTH Forward ndim:100 neq=nineq=20</th>\n      <td>-2.0e+02(7.6e+01)</td>\n    </tr>\n    <tr>\n      <th>Accuracy OSQP Backward ndim:100 neq=nineq=20</th>\n      <td>1.9e-03(4.4e-03)</td>\n    </tr>\n    <tr>\n      <th>Accuracy CVXPY Backward ndim:100 neq=nineq=20</th>\n      <td>8.9e+05(8.4e+04)</td>\n    </tr>\n    <tr>\n      <th>Accuracy QPTH Backward ndim:100 neq=nineq=20</th>\n      <td>2.1e+05(1.1e+05)</td>\n    </tr>\n    <tr>\n      <th>Time OSQP Forward ndim:500 neq=nineq=100</th>\n      <td>7.0e-02(2.1e-02)</td>\n    </tr>\n    <tr>\n      <th>Time OSQP Backward ndim:500 neq=nineq=100</th>\n      <td>4.8e-03(7.9e-04)</td>\n    </tr>\n    <tr>\n      <th>Time CVXPY Forward ndim:500 neq=nineq=100</th>\n      <td>2.8e-01(2.0e-02)</td>\n    </tr>\n    <tr>\n      <th>Time CVXPY Backward ndim:500 neq=nineq=100</th>\n      <td>2.6e-02(2.8e-03)</td>\n    </tr>\n    <tr>\n      <th>Time QPTH Forward ndim:500 neq=nineq=100</th>\n      <td>2.4e-01(5.8e-02)</td>\n    </tr>\n    <tr>\n      <th>Time QPTH Backward ndim:500 neq=nineq=100</th>\n      <td>5.9e-03(9.2e-04)</td>\n    </tr>\n    <tr>\n      <th>Time Exact Backward ndim:500 neq=nineq=100</th>\n      <td>3.0e+00(1.3e-01)</td>\n    </tr>\n    <tr>\n      <th>Accuracy OSQP Forward ndim:500 neq=nineq=100</th>\n      <td>-4.9e+03(6.9e+02)</td>\n    </tr>\n    <tr>\n      <th>Accuracy CVXPY Forward ndim:500 neq=nineq=100</th>\n      <td>-4.9e+03(6.9e+02)</td>\n    </tr>\n    <tr>\n      <th>Accuracy QPTH Forward ndim:500 neq=nineq=100</th>\n      <td>-4.6e+03(5.6e+03)</td>\n    </tr>\n    <tr>\n      <th>Accuracy OSQP Backward ndim:500 neq=nineq=100</th>\n      <td>2.0e-04(1.2e-03)</td>\n    </tr>\n    <tr>\n      <th>Accuracy CVXPY Backward ndim:500 neq=nineq=100</th>\n      <td>8.8e+05(4.0e+04)</td>\n    </tr>\n    <tr>\n      <th>Accuracy QPTH Backward ndim:500 neq=nineq=100</th>\n      <td>3.0e+05(6.1e+04)</td>\n    </tr>\n  </tbody>\n</table>\n</div>"
     },
     "execution_count": 20,
     "metadata": {},
     "output_type": "execute_result"
    }
   ],
   "source": [
    "df_lp = get_results_table(lp_stats)\n",
    "df_lp"
   ],
   "metadata": {
    "collapsed": false,
    "pycharm": {
     "name": "#%%\n"
    }
   }
  },
  {
   "cell_type": "code",
   "execution_count": 13,
   "outputs": [],
   "source": [
    "df_lp.to_csv('./BPQP_LP_results.csv')"
   ],
   "metadata": {
    "collapsed": false,
    "pycharm": {
     "name": "#%%\n"
    }
   }
  },
  {
   "cell_type": "code",
   "execution_count": null,
   "outputs": [],
   "source": [
    "pd.DataFrame(lp_stats).to_csv('./BPQP_LP_raw_results.csv')"
   ],
   "metadata": {
    "collapsed": false,
    "pycharm": {
     "name": "#%%\n"
    }
   }
  },
  {
   "cell_type": "markdown",
   "source": [
    "# 10.SOCP Robust Linear Program"
   ],
   "metadata": {
    "collapsed": false,
    "pycharm": {
     "name": "#%% md\n"
    }
   }
  },
  {
   "cell_type": "code",
   "execution_count": 50,
   "outputs": [],
   "source": [
    "m = 3\n",
    "n = 5\n",
    "p = 5\n",
    "n_i = 15\n",
    "np.random.seed(2)\n",
    "f = cp.Parameter(n)\n",
    "f.value = np.random.randn(n)\n",
    "# f = np.random.randn(n)\n",
    "x0 = np.random.randn(n)\n",
    "A = np.random.randn(n_i, n)\n",
    "b = np.random.randn(n_i)\n",
    "c = np.random.randn(n)\n",
    "d = np.linalg.norm(A @ x0 + b, 2) - c.T @ x0"
   ],
   "metadata": {
    "collapsed": false,
    "pycharm": {
     "name": "#%%\n"
    }
   }
  },
  {
   "cell_type": "code",
   "execution_count": 51,
   "outputs": [],
   "source": [
    "F = np.random.randn(p, n)\n",
    "g = F @ x0"
   ],
   "metadata": {
    "collapsed": false,
    "pycharm": {
     "name": "#%%\n"
    }
   }
  },
  {
   "cell_type": "code",
   "execution_count": 52,
   "outputs": [
    {
     "name": "stdout",
     "output_type": "stream",
     "text": [
      "The optimal value is 2.8776099618919417\n",
      "A solution x is\n",
      "[-0.84175684  0.50288766 -1.24528215 -1.05795678 -0.90901835]\n",
      "gradient is\n",
      "[-3.33423012e-07  2.06106654e-07  2.84859605e-07 -1.55519387e-07\n",
      " -3.86698031e-07]\n"
     ]
    }
   ],
   "source": [
    "x = cp.Variable(n)\n",
    "soc_constraints = [cp.SOC(c.T @ x + d, A@ x + b)]\n",
    "prob = cp.Problem(cp.Minimize(f.T@x),\n",
    "                  soc_constraints + [F @ x == g])\n",
    "prob.solve(requires_grad = True)\n",
    "print(\"The optimal value is\", prob.value)\n",
    "print(\"A solution x is\")\n",
    "print(x.value)\n",
    "print('gradient is')\n",
    "prob.backward()\n",
    "print(f.gradient)"
   ],
   "metadata": {
    "collapsed": false,
    "pycharm": {
     "name": "#%%\n"
    }
   }
  },
  {
   "cell_type": "code",
   "execution_count": 54,
   "outputs": [
    {
     "data": {
      "text/plain": "8.587580824462243"
     },
     "execution_count": 54,
     "metadata": {},
     "output_type": "execute_result"
    }
   ],
   "source": [
    "c.T @ x.value + d"
   ],
   "metadata": {
    "collapsed": false,
    "pycharm": {
     "name": "#%%\n"
    }
   }
  },
  {
   "cell_type": "code",
   "execution_count": 55,
   "outputs": [
    {
     "data": {
      "text/plain": "array([-0.05501112,  1.17923942,  2.91294843,  2.53816407,  4.2754678 ,\n        0.04802842,  0.37854054,  1.53192459,  0.52552985, -2.30544176,\n        2.88630956,  0.57018352,  2.15993051, -0.27068942, -4.20334623])"
     },
     "execution_count": 55,
     "metadata": {},
     "output_type": "execute_result"
    }
   ],
   "source": [
    "A@ x.value + b"
   ],
   "metadata": {
    "collapsed": false,
    "pycharm": {
     "name": "#%%\n"
    }
   }
  },
  {
   "cell_type": "code",
   "execution_count": null,
   "outputs": [],
   "source": [],
   "metadata": {
    "collapsed": false,
    "pycharm": {
     "name": "#%%\n"
    }
   }
  }
 ],
 "metadata": {
  "kernelspec": {
   "display_name": "Python 3",
   "language": "python",
   "name": "python3"
  },
  "language_info": {
   "codemirror_mode": {
    "name": "ipython",
    "version": 2
   },
   "file_extension": ".py",
   "mimetype": "text/x-python",
   "name": "python",
   "nbconvert_exporter": "python",
   "pygments_lexer": "ipython2",
   "version": "2.7.6"
  }
 },
 "nbformat": 4,
 "nbformat_minor": 0
}