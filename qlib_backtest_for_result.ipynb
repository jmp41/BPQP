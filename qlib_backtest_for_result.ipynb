{
 "cells": [
  {
   "cell_type": "code",
   "execution_count": null,
   "metadata": {
    "collapsed": true,
    "pycharm": {
     "name": "#%%\n"
    }
   },
   "outputs": [],
   "source": [
    "import pandas as pd\n",
    "import pickle\n",
    "import os\n",
    "import matplotlib.pyplot as plt\n",
    "import numpy as np"
   ]
  },
  {
   "cell_type": "markdown",
   "source": [
    "Retrieve Data"
   ],
   "metadata": {
    "collapsed": false,
    "pycharm": {
     "name": "#%% md\n"
    }
   }
  },
  {
   "cell_type": "code",
   "execution_count": null,
   "outputs": [],
   "source": [
    "root_dir = r'' # TODO: add results path\n",
    "cnHuber = r'' # TODO: add results path\n",
    "path = cnHuber\n",
    "with open(os.path.join(root_dir, path,'0output.dict'), \"rb\") as f:\n",
    "    df_results = pickle.load(f)"
   ],
   "metadata": {
    "collapsed": false,
    "pycharm": {
     "name": "#%%\n"
    }
   }
  },
  {
   "cell_type": "code",
   "execution_count": null,
   "outputs": [],
   "source": [
    "df_results = pd.DataFrame(df_results)\n",
    "df_results"
   ],
   "metadata": {
    "collapsed": false,
    "pycharm": {
     "name": "#%%\n"
    }
   }
  },
  {
   "cell_type": "markdown",
   "source": [
    "End-to-End training decreases regret"
   ],
   "metadata": {
    "collapsed": false,
    "pycharm": {
     "name": "#%% md\n"
    }
   }
  },
  {
   "cell_type": "code",
   "execution_count": null,
   "outputs": [],
   "source": [
    "df_results.test_regret.plot()"
   ],
   "metadata": {
    "collapsed": false,
    "pycharm": {
     "name": "#%%\n"
    }
   }
  },
  {
   "cell_type": "markdown",
   "source": [
    "Inference"
   ],
   "metadata": {
    "collapsed": false,
    "pycharm": {
     "name": "#%% md\n"
    }
   }
  },
  {
   "cell_type": "code",
   "execution_count": null,
   "outputs": [],
   "source": [
    "with open(os.path.join(root_dir, path,'pred.pkl.test0'), \"rb\") as f:\n",
    "    df_weights = pickle.load(f)\n",
    "\n",
    "df_weights = pd.DataFrame(df_weights)\n",
    "df_weights.index.name = 'datetime'\n",
    "df_weights.columns = ['instrument','score','lable','weight']\n",
    "df_backtest = df_weights.reset_index().set_index(['datetime','instrument'])\n",
    "df_backtest"
   ],
   "metadata": {
    "collapsed": false,
    "pycharm": {
     "name": "#%%\n"
    }
   }
  },
  {
   "cell_type": "markdown",
   "source": [
    "Top k strategy for end-to-end prediction model"
   ],
   "metadata": {
    "collapsed": false,
    "pycharm": {
     "name": "#%% md\n"
    }
   }
  },
  {
   "cell_type": "code",
   "execution_count": null,
   "outputs": [],
   "source": [
    "from pprint import pprint\n",
    "\n",
    "import qlib\n",
    "import pandas as pd\n",
    "from qlib.utils.time import Freq\n",
    "from qlib.utils import flatten_dict\n",
    "from qlib.contrib.evaluate import backtest_daily\n",
    "from qlib.contrib.evaluate import risk_analysis\n",
    "from qlib.contrib.strategy import TopkDropoutStrategy\n",
    "\n",
    "# init qlib\n",
    "qlib.init()\n",
    "\n",
    "CSI300_BENCH = \"SH000300\"\n",
    "STRATEGY_CONFIG = {\n",
    "    \"topk\": 50,\n",
    "    \"n_drop\": 5,\n",
    "    # pred_score, pd.Series\n",
    "    \"signal\": df_backtest.score,\n",
    "}\n",
    "\n",
    "\n",
    "strategy_obj = TopkDropoutStrategy(**STRATEGY_CONFIG)\n",
    "report_normal, positions_normal = backtest_daily(\n",
    "    start_time=\"2017-01-01\", end_time=\"2020-08-01\", strategy=strategy_obj\n",
    ")\n",
    "analysis = dict()\n",
    "# default frequency will be daily (i.e. \"day\")\n",
    "analysis[\"return_without_cost\"] = risk_analysis(report_normal[\"return\"])\n",
    "analysis[\"excess_return_without_cost\"] = risk_analysis(report_normal[\"return\"] - report_normal[\"bench\"])\n",
    "analysis[\"excess_return_with_cost\"] = risk_analysis(report_normal[\"return\"] - report_normal[\"bench\"] - report_normal[\"cost\"])\n",
    "\n",
    "\n",
    "analysis_df = pd.concat(analysis)  # type: pd.DataFrame\n",
    "pprint(analysis_df)"
   ],
   "metadata": {
    "collapsed": false,
    "pycharm": {
     "name": "#%%\n"
    }
   }
  },
  {
   "cell_type": "markdown",
   "source": [
    "Weight strategy for end-to-end prediction model"
   ],
   "metadata": {
    "collapsed": false,
    "pycharm": {
     "name": "#%% md\n"
    }
   }
  },
  {
   "cell_type": "code",
   "execution_count": null,
   "outputs": [],
   "source": [
    "from qlib.contrib.strategy import WeightStrategyBase\n",
    "class Predweight(WeightStrategyBase):\n",
    "    def __init__(\n",
    "        self,\n",
    "        **kwargs,\n",
    "    ):\n",
    "        super().__init__(**kwargs)\n",
    "\n",
    "    def generate_target_weight_position(self, score, current, trade_start_time, trade_end_time):\n",
    "\n",
    "        target_weight_position = {stock: weight for stock, weight in zip(score.index.values, score.values) if weight > 0}\n",
    "        #输出是字典\n",
    "        return target_weight_position"
   ],
   "metadata": {
    "collapsed": false,
    "pycharm": {
     "name": "#%%\n"
    }
   }
  },
  {
   "cell_type": "code",
   "execution_count": null,
   "outputs": [],
   "source": [
    "from pprint import pprint\n",
    "from qlib.utils.time import Freq\n",
    "import pandas as pd\n",
    "from qlib.backtest import backtest, executor\n",
    "from qlib.contrib.evaluate import risk_analysis\n",
    "from qlib.utils import flatten_dict\n",
    "from qlib.contrib.strategy import TopkDropoutStrategy\n",
    "\n",
    "STRATEGY_CONFIG = {\n",
    "    \"signal\": df_backtest.weight,\n",
    "}\n",
    "\n",
    "EXECUTOR_CONFIG = {\n",
    "    \"time_per_step\": \"day\",\n",
    "    \"generate_portfolio_metrics\": True,\n",
    "}\n",
    "FREQ = \"day\"\n",
    "backtest_config = {\n",
    "    \"start_time\": \"2017-01-01\",\n",
    "    \"end_time\": \"2020-08-01\",\n",
    "    \"account\": 100000000,\n",
    "    \"benchmark\": \"SH000905\",\n",
    "    \"exchange_kwargs\": {\n",
    "        \"freq\": FREQ,\n",
    "        \"limit_threshold\": 0.095,\n",
    "        \"deal_price\": \"close\",\n",
    "        \"open_cost\": 0.0005,\n",
    "        \"close_cost\": 0.0015,\n",
    "        \"min_cost\": 5,\n",
    "    },\n",
    "}\n",
    "strategy_obj = Predweight(**STRATEGY_CONFIG)\n",
    "executor_obj = executor.SimulatorExecutor(**EXECUTOR_CONFIG)\n",
    "\n",
    "portfolio_metric_dict, indicator_dict = backtest(executor=executor_obj,strategy=strategy_obj,**backtest_config)\n",
    "analysis_freq = \"{0}{1}\".format(*Freq.parse(FREQ))\n",
    "\n",
    "\n",
    "report_normal, positions_normal = portfolio_metric_dict.get(analysis_freq)\n",
    "\n",
    "# analysis\n",
    "analysis = dict()\n",
    "analysis[\"return_without_cost\"] = risk_analysis(\n",
    "    report_normal[\"return\"], freq=analysis_freq\n",
    ")\n",
    "analysis[\"excess_return_without_cost\"] = risk_analysis(\n",
    "    report_normal[\"return\"] - report_normal[\"bench\"], freq=analysis_freq\n",
    ")\n",
    "analysis[\"excess_return_with_cost\"] = risk_analysis(\n",
    "    report_normal[\"return\"] - report_normal[\"bench\"] - report_normal[\"cost\"], freq=analysis_freq\n",
    ")\n",
    "\n",
    "analysis_df = pd.concat(analysis)  # type: pd.DataFrame\n",
    "# log metrics\n",
    "analysis_dict = flatten_dict(analysis_df[\"risk\"].unstack().T.to_dict())\n",
    "# print out results\n",
    "pprint(f\"The following are analysis results of benchmark return({analysis_freq}).\")\n",
    "pprint(risk_analysis(report_normal[\"bench\"], freq=analysis_freq))\n",
    "pprint(f\"The following are analysis results of the excess return without cost({analysis_freq}).\")\n",
    "pprint(analysis[\"excess_return_without_cost\"])\n",
    "pprint(f\"The following are analysis results of the excess return with cost({analysis_freq}).\")\n",
    "pprint(analysis[\"excess_return_with_cost\"])"
   ],
   "metadata": {
    "collapsed": false,
    "pycharm": {
     "name": "#%%\n"
    }
   }
  }
 ],
 "metadata": {
  "kernelspec": {
   "display_name": "Python 3",
   "language": "python",
   "name": "python3"
  },
  "language_info": {
   "codemirror_mode": {
    "name": "ipython",
    "version": 2
   },
   "file_extension": ".py",
   "mimetype": "text/x-python",
   "name": "python",
   "nbconvert_exporter": "python",
   "pygments_lexer": "ipython2",
   "version": "2.7.6"
  }
 },
 "nbformat": 4,
 "nbformat_minor": 0
}